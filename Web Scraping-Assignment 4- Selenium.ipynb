{
 "cells": [
  {
   "cell_type": "markdown",
   "id": "db9eacf9",
   "metadata": {},
   "source": [
    "# WEB SCRAPING – ASSIGNMENT 4"
   ]
  },
  {
   "cell_type": "markdown",
   "id": "30d4d9e1",
   "metadata": {},
   "source": [
    "\n",
    "• Read all the problem statements, notes carefully and scrape the required data using any web scraping tool of your choice.\n",
    "• You have to handle commonly occurring EXCEPTIONS by using exception handling programing. To get information about selenium Exceptions. You may visit following links:\n",
    "1. https://selenium-python.readthedocs.io/api.html\n",
    "2. https://www.guru99.com/exception-handling-selenium.html\n",
    "3. https://stackoverflow.com/questions/38022658/selenium-python-handling-no-such-element- exception/38023345\n",
    "\n",
    "\n",
    "1. Scrape the details of most viewed videos on YouTube from Wikipedia.\n",
    "Url = https://en.wikipedia.org/wiki/List_of_most-viewed_YouTube_videos\n",
    "You need to find following details:\n",
    "A) Rank\n",
    "B) Name\n",
    "C) Artist\n",
    "D) Upload date\n",
    "E) Views\n",
    "\n",
    "\n",
    "2. Scrape the details team India’s international fixtures from bcci.tv. Url = https://www.bcci.tv/.\n",
    "You need to find following details:\n",
    "A) Match title (I.e. 1st ODI)\n",
    "B) Series\n",
    "C) Place\n",
    "D) Date\n",
    "E) Time\n",
    "Note: - From bcci.tv home page you have reach to the international fixture page through code.\n",
    "\n",
    "\n",
    "3. Scrape the details of selenium exception from guru99.com. Url = https://www.guru99.com/\n",
    "You need to find following details:\n",
    "A) Name\n",
    "B) Description\n",
    "Note: - From guru99 home page you have to reach to selenium exception handling page through code.\n",
    "\n",
    "\n",
    "4. Scrape the details of State-wise GDP of India from statisticstime.com. Url = http://statisticstimes.com/\n",
    "You have to find following details:\n",
    "A) Rank\n",
    "B) State\n",
    "C) GSDP(18-19)\n",
    "D) GSDP(17-18)\n",
    "E) Share(2017)\n",
    "F) GDP($ billion)\n",
    "Note: - From statisticstimes home page you have to reach to economy page through code.\n",
    "\n",
    "\n",
    "5. Scrape the details of trending repositories on Github.com. Url = https://github.com/\n",
    "You have to find the following details:\n",
    "A) Repository title\n",
    "B) Repository description\n",
    "C) Contributors count\n",
    "D) Language used\n",
    "ASSIGNMENT\n",
    "Note: - From the home page you have to click on the trending option from Explore menu through code.\n",
    "\n",
    "\n",
    "6. Scrape the details of top 100 songs on billiboard.com. Url = https:/www.billboard.com/\n",
    "You have to find the following details:\n",
    "A) Song name\n",
    "B) Artist name\n",
    "C) Last week rank\n",
    "D) Peak rank\n",
    "E) Weeks on board\n",
    "Note: - From the home page you have to click on the charts option then hot 100-page link through code.\n",
    "\n",
    "\n",
    "7. Scrape the details of Data science recruiters from naukri.com. Url = https://www.naukri.com/\n",
    "You have to find the following details:\n",
    "A) Name\n",
    "B) Designation\n",
    "C) Company\n",
    "D) Skills they hire for\n",
    "E) Location\n",
    "Note: - From naukri.com homepage click on the recruiters option and the on the search pane type Data science and click on search. All this should be done through code\n",
    "\n",
    "\n",
    "8. Scrape the details of Highest selling novels.\n",
    "Url = https://www.theguardian.com/news/datablog/2012/aug/09/best-selling-books-all-time-fifty-shades-grey- compare/\n",
    "You have to find the following details:\n",
    "A) Book name\n",
    "B) Author name\n",
    "C) Volumes sold\n",
    "D) Publisher\n",
    "E) Genre\n",
    "\n",
    "\n",
    "9. Scrape the details most watched tv series of all time from imdb.com. Url = https://www.imdb.com/list/ls095964455/\n",
    "You have to find the following details:\n",
    "A) Name\n",
    "B) Year span\n",
    "C) Genre\n",
    "D) Run time\n",
    "E) Ratings\n",
    "F) Votes\n",
    "\n",
    "\n",
    "10. Details of Datasets from UCI machine learning repositories. Url = https://archive.ics.uci.edu/\n",
    "You have to find the following details:\n",
    "A) Dataset name\n",
    "B) Data type\n",
    "C) Task\n",
    "D) Attribute type\n",
    "E) No of instances\n",
    "F) No of attribute\n",
    "G) Year\n",
    "Note: - from the home page you have to go to the ShowAllDataset page through code."
   ]
  },
  {
   "cell_type": "code",
   "execution_count": 1,
   "id": "7c3a492b",
   "metadata": {},
   "outputs": [],
   "source": [
    "import pandas as pd\n",
    "import selenium\n",
    "from selenium import webdriver"
   ]
  },
  {
   "cell_type": "code",
   "execution_count": 2,
   "id": "9d788ef5",
   "metadata": {},
   "outputs": [],
   "source": [
    "from selenium.common.exceptions import NoSuchElementException"
   ]
  },
  {
   "cell_type": "code",
   "execution_count": 28,
   "id": "a2c59b41",
   "metadata": {},
   "outputs": [
    {
     "name": "stderr",
     "output_type": "stream",
     "text": [
      "C:\\Users\\Swetha\\AppData\\Local\\Temp/ipykernel_12028/101893016.py:1: DeprecationWarning: executable_path has been deprecated, please pass in a Service object\n",
      "  driver=webdriver.Chrome('chromedriver.exe')\n"
     ]
    }
   ],
   "source": [
    "driver=webdriver.Chrome('chromedriver.exe')"
   ]
  },
  {
   "cell_type": "markdown",
   "id": "0f7a6319",
   "metadata": {},
   "source": [
    "Question 1:\n",
    "\n",
    "Scrape the details of most viewed videos on YouTube from Wikipedia:\n",
    "Url = https://en.wikipedia.org/wiki/List_of_most-viewed_YouTube_videos/\n",
    "\n",
    "You need to find following details:\n",
    "\n",
    "A) Rank\n",
    "\n",
    "B) Name\n",
    "\n",
    "C) Artist\n",
    "\n",
    "D) Upload date\n",
    "\n",
    "E) Views"
   ]
  },
  {
   "cell_type": "code",
   "execution_count": 29,
   "id": "a4b58751",
   "metadata": {},
   "outputs": [],
   "source": [
    "url=\"https://en.wikipedia.org/wiki/List_of_most-viewed_YouTube_videos\"\n",
    "driver.get(url)"
   ]
  },
  {
   "cell_type": "code",
   "execution_count": 30,
   "id": "8511d95f",
   "metadata": {},
   "outputs": [],
   "source": [
    "Rank=[]\n",
    "Video_Name=[]\n",
    "Artist=[]\n",
    "Views_in_billions=[]\n",
    "Date_of_upload=[]"
   ]
  },
  {
   "cell_type": "code",
   "execution_count": 31,
   "id": "bc42a449",
   "metadata": {},
   "outputs": [
    {
     "name": "stderr",
     "output_type": "stream",
     "text": [
      "C:\\Users\\Swetha\\AppData\\Local\\Temp/ipykernel_12028/1442421016.py:2: DeprecationWarning: find_elements_by_xpath is deprecated. Please use find_elements(by=By.XPATH, value=xpath) instead\n",
      "  tag=driver.find_elements_by_xpath('/html/body/div[3]/div[3]/div[5]/div[1]/table[3]/tbody/tr/td[1]')\n"
     ]
    }
   ],
   "source": [
    "try:\n",
    "    tag=driver.find_elements_by_xpath('/html/body/div[3]/div[3]/div[5]/div[1]/table[3]/tbody/tr/td[1]')\n",
    "    for i in tag:\n",
    "        Rank.append(i.text)\n",
    "except NoSuchElementException:\n",
    "    Rank.append('Unknown')\n",
    "    print(Rank)"
   ]
  },
  {
   "cell_type": "code",
   "execution_count": 32,
   "id": "4516caff",
   "metadata": {},
   "outputs": [
    {
     "name": "stdout",
     "output_type": "stream",
     "text": [
      "['1.', '2.', '3.', '4.', '5.', '6.', '7.', '8.', '9.', '10.', '11.', '12.', '13.', '14.', '15.', '16.', '17.', '18.', '19.', '20.', '21.', '22.', '23.', '24.', '25.', '26.', '27.', '28.', '29.', '30.']\n"
     ]
    },
    {
     "data": {
      "text/plain": [
       "30"
      ]
     },
     "execution_count": 32,
     "metadata": {},
     "output_type": "execute_result"
    }
   ],
   "source": [
    "print(Rank)\n",
    "len(Rank)"
   ]
  },
  {
   "cell_type": "code",
   "execution_count": 33,
   "id": "49c5161c",
   "metadata": {},
   "outputs": [
    {
     "name": "stderr",
     "output_type": "stream",
     "text": [
      "C:\\Users\\Swetha\\AppData\\Local\\Temp/ipykernel_12028/2243798800.py:2: DeprecationWarning: find_elements_by_xpath is deprecated. Please use find_elements(by=By.XPATH, value=xpath) instead\n",
      "  tag=driver.find_elements_by_xpath('/html/body/div[3]/div[3]/div[5]/div[1]/table[3]/tbody/tr/td[2]')\n"
     ]
    }
   ],
   "source": [
    "try:\n",
    "    tag=driver.find_elements_by_xpath('/html/body/div[3]/div[3]/div[5]/div[1]/table[3]/tbody/tr/td[2]')\n",
    "    for i in tag:\n",
    "        Video_Name.append(i.text)\n",
    "except NoSuchElementException:\n",
    "    Video_Name.append('Unknown')"
   ]
  },
  {
   "cell_type": "code",
   "execution_count": 34,
   "id": "00801984",
   "metadata": {},
   "outputs": [
    {
     "data": {
      "text/plain": [
       "30"
      ]
     },
     "execution_count": 34,
     "metadata": {},
     "output_type": "execute_result"
    }
   ],
   "source": [
    "len(Video_Name)"
   ]
  },
  {
   "cell_type": "code",
   "execution_count": 35,
   "id": "afb0566e",
   "metadata": {},
   "outputs": [
    {
     "name": "stdout",
     "output_type": "stream",
     "text": [
      "['\"Baby Shark Dance\"[3]', '\"Despacito\"[6]', '\"Johny Johny Yes Papa\"[12]', '\"Shape of You\"[13]', '\"See You Again\"[15]', '\"Bath Song\"[20]', '\"Phonics Song with Two Words\"[21]', '\"Learning Colors – Colorful Eggs on a Farm\"[22]', '\"Uptown Funk\"[23]', '\"Masha and the Bear – Recipe for Disaster\"[24]', '\"Gangnam Style\"[25]', '\"Wheels on the Bus\"[30]', '\"Dame Tu Cosita\"[31]', '\"Sugar\"[32]', '\"Roar\"[33]', '\"Counting Stars\"[34]', '\"Sorry\"[35]', '\"Thinking Out Loud\"[36]', '\"Axel F\"[37]', '\"Girls Like You\"[38]', '\"Faded\"[39]', '\"Dark Horse\"[40]', '\"Let Her Go\"[41]', '\"Baa Baa Black Sheep\"[42]', '\"Bailando\"[43]', '\"Lean On\"[44]', '\"Shake It Off\"[45]', '\"Perfect\"[46]', '\"Waka Waka (This Time for Africa)\"[47]', '\"Mi Gente\"[48]']\n"
     ]
    }
   ],
   "source": [
    "print(Video_Name)"
   ]
  },
  {
   "cell_type": "code",
   "execution_count": 36,
   "id": "98d835b7",
   "metadata": {},
   "outputs": [
    {
     "data": {
      "text/plain": [
       "30"
      ]
     },
     "execution_count": 36,
     "metadata": {},
     "output_type": "execute_result"
    }
   ],
   "source": [
    "len(Video_Name)"
   ]
  },
  {
   "cell_type": "code",
   "execution_count": 37,
   "id": "063fe201",
   "metadata": {},
   "outputs": [
    {
     "name": "stderr",
     "output_type": "stream",
     "text": [
      "C:\\Users\\Swetha\\AppData\\Local\\Temp/ipykernel_12028/3818102861.py:2: DeprecationWarning: find_elements_by_xpath is deprecated. Please use find_elements(by=By.XPATH, value=xpath) instead\n",
      "  tag=driver.find_elements_by_xpath('/html/body/div[3]/div[3]/div[5]/div[1]/table[3]/tbody/tr/td[3]')\n"
     ]
    }
   ],
   "source": [
    "try:\n",
    "    tag=driver.find_elements_by_xpath('/html/body/div[3]/div[3]/div[5]/div[1]/table[3]/tbody/tr/td[3]')\n",
    "    for i in tag:\n",
    "        Artist.append(i.text)\n",
    "except NoSuchElementException:\n",
    "    Artist.append('Unknown')"
   ]
  },
  {
   "cell_type": "code",
   "execution_count": 38,
   "id": "c35a0908",
   "metadata": {},
   "outputs": [
    {
     "name": "stdout",
     "output_type": "stream",
     "text": [
      "[\"Pinkfong Baby Shark - Kids' Songs & Stories\", 'Luis Fonsi', 'LooLoo Kids', 'Ed Sheeran', 'Wiz Khalifa', 'Cocomelon – Nursery Rhymes', 'ChuChu TV', 'Miroshka TV', 'Mark Ronson', 'Get Movies', 'Psy', 'Cocomelon – Nursery Rhymes', 'El Chombo', 'Maroon 5', 'Katy Perry', 'OneRepublic', 'Justin Bieber', 'Ed Sheeran', 'Crazy Frog', 'Maroon 5', 'Alan Walker', 'Katy Perry', 'Passenger', 'Cocomelon – Nursery Rhymes', 'Enrique Iglesias', 'Major Lazer', 'Taylor Swift', 'Ed Sheeran', 'Shakira', 'J Balvin']\n"
     ]
    }
   ],
   "source": [
    "print(Artist)"
   ]
  },
  {
   "cell_type": "code",
   "execution_count": 39,
   "id": "0184a5d8",
   "metadata": {},
   "outputs": [
    {
     "data": {
      "text/plain": [
       "30"
      ]
     },
     "execution_count": 39,
     "metadata": {},
     "output_type": "execute_result"
    }
   ],
   "source": [
    "len(Artist)"
   ]
  },
  {
   "cell_type": "code",
   "execution_count": 40,
   "id": "a4e33026",
   "metadata": {},
   "outputs": [
    {
     "name": "stderr",
     "output_type": "stream",
     "text": [
      "C:\\Users\\Swetha\\AppData\\Local\\Temp/ipykernel_12028/3744897553.py:2: DeprecationWarning: find_elements_by_xpath is deprecated. Please use find_elements(by=By.XPATH, value=xpath) instead\n",
      "  tag=driver.find_elements_by_xpath('/html/body/div[3]/div[3]/div[5]/div[1]/table[3]/tbody/tr/td[4]')\n"
     ]
    }
   ],
   "source": [
    "try:\n",
    "    tag=driver.find_elements_by_xpath('/html/body/div[3]/div[3]/div[5]/div[1]/table[3]/tbody/tr/td[4]')\n",
    "    for i in tag:\n",
    "        Views_in_billions.append(i.text)\n",
    "except NoSuchElementException:\n",
    "    Views_in_billions.append('Unknown')"
   ]
  },
  {
   "cell_type": "code",
   "execution_count": 41,
   "id": "e5a37741",
   "metadata": {},
   "outputs": [
    {
     "name": "stdout",
     "output_type": "stream",
     "text": [
      "['10.53', '7.82', '6.31', '5.69', '5.48', '5.27', '4.58', '4.56', '4.54', '4.49', '4.40', '3.96', '3.92', '3.68', '3.56', '3.56', '3.54', '3.44', '3.32', '3.28', '3.27', '3.26', '3.21', '3.21', '3.19', '3.19', '3.16', '3.14', '3.12', '3.07']\n"
     ]
    }
   ],
   "source": [
    "print(Views_in_billions)"
   ]
  },
  {
   "cell_type": "code",
   "execution_count": 42,
   "id": "1a9eff80",
   "metadata": {},
   "outputs": [
    {
     "data": {
      "text/plain": [
       "30"
      ]
     },
     "execution_count": 42,
     "metadata": {},
     "output_type": "execute_result"
    }
   ],
   "source": [
    "len(Views_in_billions)"
   ]
  },
  {
   "cell_type": "code",
   "execution_count": 43,
   "id": "83f9c750",
   "metadata": {},
   "outputs": [
    {
     "name": "stderr",
     "output_type": "stream",
     "text": [
      "C:\\Users\\Swetha\\AppData\\Local\\Temp/ipykernel_12028/1798937280.py:2: DeprecationWarning: find_elements_by_xpath is deprecated. Please use find_elements(by=By.XPATH, value=xpath) instead\n",
      "  tag=driver.find_elements_by_xpath('/html/body/div[3]/div[3]/div[5]/div[1]/table[3]/tbody/tr/td[5]')\n"
     ]
    }
   ],
   "source": [
    "try:\n",
    "    tag=driver.find_elements_by_xpath('/html/body/div[3]/div[3]/div[5]/div[1]/table[3]/tbody/tr/td[5]')\n",
    "    for i in tag:\n",
    "        Date_of_upload.append(i.text)\n",
    "except NoSuchElementException:\n",
    "    Date_of_upload.append('Unknown')"
   ]
  },
  {
   "cell_type": "code",
   "execution_count": 44,
   "id": "a9b9b3f1",
   "metadata": {},
   "outputs": [
    {
     "name": "stdout",
     "output_type": "stream",
     "text": [
      "['June 17, 2016', 'January 12, 2017', 'October 8, 2016', 'January 30, 2017', 'April 6, 2015', 'May 2, 2018', 'March 6, 2014', 'February 27, 2018', 'November 19, 2014', 'January 31, 2012', 'July 15, 2012', 'May 24, 2018', 'April 5, 2018', 'January 14, 2015', 'September 5, 2013', 'May 31, 2013', 'October 22, 2015', 'October 7, 2014', 'June 16, 2009', 'May 31, 2018', 'December 3, 2015', 'February 20, 2014', 'July 25, 2012', 'June 25, 2018', 'April 11, 2014', 'March 22, 2015', 'August 18, 2014', 'November 9, 2017', 'June 4, 2010', 'June 29, 2017']\n"
     ]
    }
   ],
   "source": [
    "print(Date_of_upload)"
   ]
  },
  {
   "cell_type": "code",
   "execution_count": 45,
   "id": "9c8e403f",
   "metadata": {},
   "outputs": [
    {
     "data": {
      "text/plain": [
       "30"
      ]
     },
     "execution_count": 45,
     "metadata": {},
     "output_type": "execute_result"
    }
   ],
   "source": [
    "len(Date_of_upload)"
   ]
  },
  {
   "cell_type": "code",
   "execution_count": 46,
   "id": "92276faf",
   "metadata": {},
   "outputs": [
    {
     "data": {
      "text/html": [
       "<div>\n",
       "<style scoped>\n",
       "    .dataframe tbody tr th:only-of-type {\n",
       "        vertical-align: middle;\n",
       "    }\n",
       "\n",
       "    .dataframe tbody tr th {\n",
       "        vertical-align: top;\n",
       "    }\n",
       "\n",
       "    .dataframe thead th {\n",
       "        text-align: right;\n",
       "    }\n",
       "</style>\n",
       "<table border=\"1\" class=\"dataframe\">\n",
       "  <thead>\n",
       "    <tr style=\"text-align: right;\">\n",
       "      <th></th>\n",
       "      <th>Rank</th>\n",
       "      <th>Name of the video</th>\n",
       "      <th>Artist</th>\n",
       "      <th>Views_in_billions</th>\n",
       "      <th>Date_of_upload</th>\n",
       "    </tr>\n",
       "  </thead>\n",
       "  <tbody>\n",
       "    <tr>\n",
       "      <th>0</th>\n",
       "      <td>1.</td>\n",
       "      <td>\"Baby Shark Dance\"[3]</td>\n",
       "      <td>Pinkfong Baby Shark - Kids' Songs &amp; Stories</td>\n",
       "      <td>10.53</td>\n",
       "      <td>June 17, 2016</td>\n",
       "    </tr>\n",
       "    <tr>\n",
       "      <th>1</th>\n",
       "      <td>2.</td>\n",
       "      <td>\"Despacito\"[6]</td>\n",
       "      <td>Luis Fonsi</td>\n",
       "      <td>7.82</td>\n",
       "      <td>January 12, 2017</td>\n",
       "    </tr>\n",
       "    <tr>\n",
       "      <th>2</th>\n",
       "      <td>3.</td>\n",
       "      <td>\"Johny Johny Yes Papa\"[12]</td>\n",
       "      <td>LooLoo Kids</td>\n",
       "      <td>6.31</td>\n",
       "      <td>October 8, 2016</td>\n",
       "    </tr>\n",
       "    <tr>\n",
       "      <th>3</th>\n",
       "      <td>4.</td>\n",
       "      <td>\"Shape of You\"[13]</td>\n",
       "      <td>Ed Sheeran</td>\n",
       "      <td>5.69</td>\n",
       "      <td>January 30, 2017</td>\n",
       "    </tr>\n",
       "    <tr>\n",
       "      <th>4</th>\n",
       "      <td>5.</td>\n",
       "      <td>\"See You Again\"[15]</td>\n",
       "      <td>Wiz Khalifa</td>\n",
       "      <td>5.48</td>\n",
       "      <td>April 6, 2015</td>\n",
       "    </tr>\n",
       "  </tbody>\n",
       "</table>\n",
       "</div>"
      ],
      "text/plain": [
       "  Rank           Name of the video  \\\n",
       "0   1.       \"Baby Shark Dance\"[3]   \n",
       "1   2.              \"Despacito\"[6]   \n",
       "2   3.  \"Johny Johny Yes Papa\"[12]   \n",
       "3   4.          \"Shape of You\"[13]   \n",
       "4   5.         \"See You Again\"[15]   \n",
       "\n",
       "                                        Artist Views_in_billions  \\\n",
       "0  Pinkfong Baby Shark - Kids' Songs & Stories             10.53   \n",
       "1                                   Luis Fonsi              7.82   \n",
       "2                                  LooLoo Kids              6.31   \n",
       "3                                   Ed Sheeran              5.69   \n",
       "4                                  Wiz Khalifa              5.48   \n",
       "\n",
       "     Date_of_upload  \n",
       "0     June 17, 2016  \n",
       "1  January 12, 2017  \n",
       "2   October 8, 2016  \n",
       "3  January 30, 2017  \n",
       "4     April 6, 2015  "
      ]
     },
     "execution_count": 46,
     "metadata": {},
     "output_type": "execute_result"
    }
   ],
   "source": [
    "df1=pd.DataFrame()\n",
    "df1['Rank']=Rank\n",
    "df1['Name of the video']=Video_Name\n",
    "df1['Artist']=Artist\n",
    "df1['Views_in_billions']=Views_in_billions\n",
    "df1['Date_of_upload']=Date_of_upload\n",
    "df1.head()"
   ]
  },
  {
   "cell_type": "code",
   "execution_count": 47,
   "id": "8ea87f04",
   "metadata": {},
   "outputs": [
    {
     "data": {
      "text/plain": [
       "(30, 5)"
      ]
     },
     "execution_count": 47,
     "metadata": {},
     "output_type": "execute_result"
    }
   ],
   "source": [
    "df1.shape"
   ]
  },
  {
   "cell_type": "code",
   "execution_count": 48,
   "id": "2fdfc03c",
   "metadata": {},
   "outputs": [],
   "source": [
    "driver.close()"
   ]
  },
  {
   "cell_type": "code",
   "execution_count": null,
   "id": "5ee940e3",
   "metadata": {},
   "outputs": [],
   "source": []
  },
  {
   "cell_type": "markdown",
   "id": "567d96f2",
   "metadata": {},
   "source": [
    "Question 2:\n",
    "\n",
    " Scrape the details team India’s international fixtures from bcci.tv.\n",
    " \n",
    "Url = https://www.bcci.tv/.\n",
    "\n",
    "You need to find following details:\n",
    "\n",
    "A) Match title (I.e. 1st ODI)\n",
    "\n",
    "B) Series\n",
    "\n",
    "C) Place\n",
    "\n",
    "D) Date\n",
    "\n",
    "E) Time\n",
    "\n",
    "Note: - From bcci.tv home page you have reach to the international fixture page through code."
   ]
  },
  {
   "cell_type": "code",
   "execution_count": 1,
   "id": "9e031009",
   "metadata": {},
   "outputs": [],
   "source": [
    "import pandas as pd\n",
    "import selenium\n",
    "from selenium import webdriver"
   ]
  },
  {
   "cell_type": "code",
   "execution_count": 2,
   "id": "3d609b03",
   "metadata": {},
   "outputs": [],
   "source": [
    "from selenium.common.exceptions import NoSuchElementException"
   ]
  },
  {
   "cell_type": "code",
   "execution_count": 3,
   "id": "acf8ff31",
   "metadata": {},
   "outputs": [
    {
     "name": "stderr",
     "output_type": "stream",
     "text": [
      "C:\\Users\\Swetha\\AppData\\Local\\Temp/ipykernel_24744/101893016.py:1: DeprecationWarning: executable_path has been deprecated, please pass in a Service object\n",
      "  driver=webdriver.Chrome('chromedriver.exe')\n"
     ]
    }
   ],
   "source": [
    "driver=webdriver.Chrome('chromedriver.exe')"
   ]
  },
  {
   "cell_type": "code",
   "execution_count": 4,
   "id": "be237509",
   "metadata": {},
   "outputs": [],
   "source": [
    "url='https://www.bcci.tv/'\n",
    "driver.get(url)"
   ]
  },
  {
   "cell_type": "code",
   "execution_count": 5,
   "id": "76491a54",
   "metadata": {},
   "outputs": [
    {
     "name": "stderr",
     "output_type": "stream",
     "text": [
      "C:\\Users\\Swetha\\AppData\\Local\\Temp/ipykernel_24744/1510872861.py:1: DeprecationWarning: find_element_by_xpath is deprecated. Please use find_element(by=By.XPATH, value=xpath) instead\n",
      "  International_tag=driver.find_element_by_xpath('/html/body/nav/div/div[2]/ul[1]/li[2]/a')\n"
     ]
    }
   ],
   "source": [
    "International_tag=driver.find_element_by_xpath('/html/body/nav/div/div[2]/ul[1]/li[2]/a')\n",
    "International_tag.click()"
   ]
  },
  {
   "cell_type": "code",
   "execution_count": 16,
   "id": "a43fd103",
   "metadata": {},
   "outputs": [
    {
     "name": "stderr",
     "output_type": "stream",
     "text": [
      "C:\\Users\\Swetha\\AppData\\Local\\Temp/ipykernel_24744/2595177778.py:2: DeprecationWarning: find_elements_by_xpath is deprecated. Please use find_elements(by=By.XPATH, value=xpath) instead\n",
      "  for i in driver.find_elements_by_xpath('/html/body/div[3]/div[1]/div/ul/li[3]/a'):\n"
     ]
    }
   ],
   "source": [
    "Archieves_link=[]\n",
    "for i in driver.find_elements_by_xpath('/html/body/div[3]/div[1]/div/ul/li[3]/a'):\n",
    "    Archieves_link.append(i.get_attribute(\"href\"))"
   ]
  },
  {
   "cell_type": "code",
   "execution_count": 17,
   "id": "f3d29bdf",
   "metadata": {},
   "outputs": [],
   "source": [
    "driver.get(Archieves_link[0])"
   ]
  },
  {
   "cell_type": "code",
   "execution_count": 18,
   "id": "3c011bef",
   "metadata": {},
   "outputs": [],
   "source": [
    "import nltk\n",
    "from nltk.tokenize import word_tokenize"
   ]
  },
  {
   "cell_type": "code",
   "execution_count": 19,
   "id": "d30da694",
   "metadata": {},
   "outputs": [],
   "source": [
    "Match_title=[]\n",
    "Series=[]\n",
    "Place=[]\n",
    "Date_of_event=[]\n",
    "Event_time=[]\n",
    "Date=[]"
   ]
  },
  {
   "cell_type": "code",
   "execution_count": 20,
   "id": "b57976c2",
   "metadata": {},
   "outputs": [
    {
     "name": "stderr",
     "output_type": "stream",
     "text": [
      "C:\\Users\\Swetha\\AppData\\Local\\Temp/ipykernel_24744/1990309435.py:2: DeprecationWarning: find_elements_by_xpath is deprecated. Please use find_elements(by=By.XPATH, value=xpath) instead\n",
      "  for i in driver.find_elements_by_xpath('//h4[@class=\"trophy-head ng-binding\"]'):\n"
     ]
    }
   ],
   "source": [
    "try:\n",
    "    for i in driver.find_elements_by_xpath('//h4[@class=\"trophy-head ng-binding\"]'):\n",
    "        Match_title.append(i.text)\n",
    "except NoSuchElementException:\n",
    "    Match_title.append('Unknown')"
   ]
  },
  {
   "cell_type": "code",
   "execution_count": 21,
   "id": "0f55aed0",
   "metadata": {},
   "outputs": [
    {
     "name": "stdout",
     "output_type": "stream",
     "text": [
      "['AUSTRALIA V INDIA 2020/21', 'INDIA V SOUTH AFRICA 2020', 'INDIA A IN NEW ZEALAND 2020', 'NEW ZEALAND V INDIA 2020', 'INDIA V AUSTRALIA 2020', 'INDIA V SRI LANKA 2020', 'INDIA V WEST INDIES 2019', 'INDIA V BANGLADESH 2019', 'INDIA V SOUTH AFRICA 2019', 'WEST INDIES V INDIA 2019', '2019 ICC CRICKET WORLD CUP WARMUPS', 'INDIA V AUSTRALIA 2019', 'NEW ZEALAND V INDIA 2019', 'INDIA IN AUSTRALIA 2018/19', 'AUSTRALIA V INDIA 2018-19', 'INDIA V WINDIES 2018', 'ENGLAND V INDIA 2018', 'IRELAND V INDIA 2018', 'INDIA V AFGHANISTAN 2018', 'SRI LANKA TRI SERIES 2018', 'SOUTH AFRICA V INDIA 2018', 'INDIA V SRI LANKA 2017', 'INDIA V NEW ZEALAND 2017', 'SRI LANKA V INDIA 2017', 'WEST INDIES V INDIA 2017', 'ICC CHAMPIONS TROPHY 2017', 'ICC CHAMPIONS TROPHY 2017 WARMUPS', 'INDIA V AUSTRALIA 2017', 'INDIA V BANGLADESH 2017', 'INDIA V ENGLAND 2016', 'INDIA V NEW ZEALAND 2016', 'WEST INDIES V INDIA IN USA 2016', 'WEST INDIES V INDIA 2016', 'ZIMBABWE V INDIA 2016', 'WORLD T20 2016', 'WORLD T20 2016 WARMUPS', 'ASIA CUP 2016', 'INDIA V SRI LANKA 2016', 'AUSTRALIA V INDIA 2016', 'INDIA V SOUTH AFRICA 2015', 'SRI LANKA V INDIA 2015', 'ZIMBABWE V INDIA 2015', 'BANGLADESH V INDIA 2015', 'ICC CRICKET WORLD CUP 2015', 'CWC 2015 WARMUPS', 'AUSTRALIA TRI-SERIES 2015', 'AUSTRALIA V INDIA 2014', 'INDIA V SRI LANKA 2014', 'INDIA V WEST INDIES 2014', 'ENGLAND V INDIA 2014', 'BANGLADESH V INDIA 2014', 'WORLD T20 2014', 'WORLD T20 2014 WARM-UP MATCHES', 'ASIA CUP 2014', 'NEW ZEALAND V INDIA 2014', 'SOUTH AFRICA V INDIA 2013', 'INDIA V WEST INDIES 2013', 'INDIA V AUSTRALIA 2013', 'ZIMBABWE V INDIA 2013', 'CELKON MOBILE CUP 2013', 'CHAMPIONS TROPHY 2013', 'CHAMPIONS TROPHY 2013 WARM-UP MATCHES', 'INDIA V AUSTRALIA TEST SERIES 2013', 'INDIA V PAKISTAN 2012-13', 'INDIA V ENGLAND 2012/13', 'WORLD T20 2012', 'PRE TOURNMENTS MATCHES', 'WORLD T20 2012 WARMUPS']\n"
     ]
    }
   ],
   "source": [
    "print(Match_title)"
   ]
  },
  {
   "cell_type": "code",
   "execution_count": 22,
   "id": "a6008ba3",
   "metadata": {},
   "outputs": [
    {
     "data": {
      "text/plain": [
       "68"
      ]
     },
     "execution_count": 22,
     "metadata": {},
     "output_type": "execute_result"
    }
   ],
   "source": [
    "len(Match_title)"
   ]
  },
  {
   "cell_type": "code",
   "execution_count": 23,
   "id": "2996435d",
   "metadata": {},
   "outputs": [
    {
     "name": "stderr",
     "output_type": "stream",
     "text": [
      "C:\\Users\\Swetha\\AppData\\Local\\Temp/ipykernel_24744/4265871293.py:2: DeprecationWarning: find_elements_by_xpath is deprecated. Please use find_elements(by=By.XPATH, value=xpath) instead\n",
      "  for i in driver.find_elements_by_xpath('/html/body/div[3]/div[2]/div/div/div/div/div/div/div[3]/div[2]/div[1]/div/div[3]/a'):\n"
     ]
    }
   ],
   "source": [
    "Series_link=[]\n",
    "for i in driver.find_elements_by_xpath('/html/body/div[3]/div[2]/div/div/div/div/div/div/div[3]/div[2]/div[1]/div/div[3]/a'):\n",
    "    Series_link.append(i.get_attribute(\"href\"))"
   ]
  },
  {
   "cell_type": "code",
   "execution_count": 24,
   "id": "66ce6f35",
   "metadata": {},
   "outputs": [],
   "source": [
    "driver.get(Series_link[0])"
   ]
  },
  {
   "cell_type": "code",
   "execution_count": 28,
   "id": "5daac6c0",
   "metadata": {},
   "outputs": [
    {
     "name": "stderr",
     "output_type": "stream",
     "text": [
      "C:\\Users\\Swetha\\AppData\\Local\\Temp/ipykernel_24744/1937012674.py:2: DeprecationWarning: find_elements_by_xpath is deprecated. Please use find_elements(by=By.XPATH, value=xpath) instead\n",
      "  for i in driver.find_elements_by_xpath('/html/body/div[3]/div[2]/div/div/div[1]/div[3]/div[2]/div/div/div[1]/div/div[1]/h5[2]/span'):\n"
     ]
    }
   ],
   "source": [
    "try:\n",
    "    for i in driver.find_elements_by_xpath('/html/body/div[3]/div[2]/div/div/div[1]/div[3]/div[2]/div/div/div[1]/div/div[1]/h5[2]/span'):\n",
    "        Series.append(i.text)\n",
    "except NoSuchElementException:\n",
    "    Series.append('Unknown')"
   ]
  },
  {
   "cell_type": "code",
   "execution_count": 29,
   "id": "937115d1",
   "metadata": {},
   "outputs": [
    {
     "name": "stdout",
     "output_type": "stream",
     "text": [
      "['AUSTRALIA V INDIA 2020/21']\n"
     ]
    }
   ],
   "source": [
    "print(Series)"
   ]
  },
  {
   "cell_type": "code",
   "execution_count": 30,
   "id": "de310caa",
   "metadata": {},
   "outputs": [
    {
     "data": {
      "text/plain": [
       "1"
      ]
     },
     "execution_count": 30,
     "metadata": {},
     "output_type": "execute_result"
    }
   ],
   "source": [
    "len(Series)"
   ]
  },
  {
   "cell_type": "code",
   "execution_count": 31,
   "id": "9d09c340",
   "metadata": {},
   "outputs": [
    {
     "name": "stderr",
     "output_type": "stream",
     "text": [
      "C:\\Users\\Swetha\\AppData\\Local\\Temp/ipykernel_24744/1261756513.py:2: DeprecationWarning: find_elements_by_xpath is deprecated. Please use find_elements(by=By.XPATH, value=xpath) instead\n",
      "  for i in driver.find_elements_by_xpath('/html/body/div[3]/div[2]/div/div/div[1]/div[3]/div[2]/div/div/div[1]/div/div[4]/a'):\n"
     ]
    }
   ],
   "source": [
    "Place_link=[]\n",
    "for i in driver.find_elements_by_xpath('/html/body/div[3]/div[2]/div/div/div[1]/div[3]/div[2]/div/div/div[1]/div/div[4]/a'):\n",
    "    Place_link.append(i.get_attribute(\"href\"))"
   ]
  },
  {
   "cell_type": "code",
   "execution_count": 32,
   "id": "bddd57c8",
   "metadata": {},
   "outputs": [],
   "source": [
    "driver.get(Place_link[0])"
   ]
  },
  {
   "cell_type": "code",
   "execution_count": 36,
   "id": "5bfb89af",
   "metadata": {},
   "outputs": [
    {
     "name": "stderr",
     "output_type": "stream",
     "text": [
      "C:\\Users\\Swetha\\AppData\\Local\\Temp/ipykernel_24744/3037306153.py:2: DeprecationWarning: find_elements_by_xpath is deprecated. Please use find_elements(by=By.XPATH, value=xpath) instead\n",
      "  for i in driver.find_elements_by_xpath('/html/body/div[3]/div/div[1]/div[3]/div[6]/div[3]/div/div[1]/div/div[2]/div[3]/div[4]/span'):\n"
     ]
    }
   ],
   "source": [
    "try:\n",
    "    for i in driver.find_elements_by_xpath('/html/body/div[3]/div/div[1]/div[3]/div[6]/div[3]/div/div[1]/div/div[2]/div[3]/div[4]/span'):\n",
    "        Place.append(i.text)\n",
    "except NoSuchElementException:\n",
    "    Place.append('Unknown')"
   ]
  },
  {
   "cell_type": "code",
   "execution_count": 37,
   "id": "fa2e85e6",
   "metadata": {},
   "outputs": [
    {
     "name": "stdout",
     "output_type": "stream",
     "text": [
      "['BRISBANE CRICKET GROUND']\n"
     ]
    }
   ],
   "source": [
    "print(Place)"
   ]
  },
  {
   "cell_type": "code",
   "execution_count": 38,
   "id": "e056b5a2",
   "metadata": {},
   "outputs": [
    {
     "data": {
      "text/plain": [
       "1"
      ]
     },
     "execution_count": 38,
     "metadata": {},
     "output_type": "execute_result"
    }
   ],
   "source": [
    "len(Place)"
   ]
  },
  {
   "cell_type": "code",
   "execution_count": 39,
   "id": "414b1eee",
   "metadata": {},
   "outputs": [
    {
     "name": "stderr",
     "output_type": "stream",
     "text": [
      "C:\\Users\\Swetha\\AppData\\Local\\Temp/ipykernel_24744/1781395465.py:2: DeprecationWarning: find_elements_by_xpath is deprecated. Please use find_elements(by=By.XPATH, value=xpath) instead\n",
      "  for i in driver.find_elements_by_xpath('/html/body/div[3]/div/div[1]/div[3]/div[6]/div[3]/div/div[1]/div/div[2]/div[3]/div[3]'):\n"
     ]
    }
   ],
   "source": [
    "try:\n",
    "    for i in driver.find_elements_by_xpath('/html/body/div[3]/div/div[1]/div[3]/div[6]/div[3]/div/div[1]/div/div[2]/div[3]/div[3]'):\n",
    "        Date.append(i.text)\n",
    "except NoSuchElementException:\n",
    "    Date.append('Unknown')"
   ]
  },
  {
   "cell_type": "code",
   "execution_count": 40,
   "id": "577ff05b",
   "metadata": {},
   "outputs": [
    {
     "name": "stdout",
     "output_type": "stream",
     "text": [
      "['15 JAN 2021']\n"
     ]
    }
   ],
   "source": [
    "print(Date)"
   ]
  },
  {
   "cell_type": "code",
   "execution_count": 41,
   "id": "d03f6bac",
   "metadata": {},
   "outputs": [
    {
     "data": {
      "text/plain": [
       "1"
      ]
     },
     "execution_count": 41,
     "metadata": {},
     "output_type": "execute_result"
    }
   ],
   "source": [
    "len(Date)"
   ]
  },
  {
   "cell_type": "code",
   "execution_count": 42,
   "id": "f5e20c1b",
   "metadata": {},
   "outputs": [],
   "source": [
    "driver.close()"
   ]
  },
  {
   "cell_type": "code",
   "execution_count": null,
   "id": "e4f3b937",
   "metadata": {},
   "outputs": [],
   "source": []
  },
  {
   "cell_type": "markdown",
   "id": "9099686d",
   "metadata": {},
   "source": [
    "Question 3:\n",
    "\n",
    "Scrape the details of selenium exception from guru99.com.\n",
    "\n",
    "Url = https://www.guru99.com/\n",
    "    \n",
    "You need to find following details:\n",
    "\n",
    "A) Name\n",
    "\n",
    "B) Description\n",
    "\n",
    "Note: - From guru99 home page you have to reach to selenium exception handling page through code"
   ]
  },
  {
   "cell_type": "code",
   "execution_count": 43,
   "id": "336cbfb6",
   "metadata": {},
   "outputs": [
    {
     "name": "stderr",
     "output_type": "stream",
     "text": [
      "C:\\Users\\Swetha\\AppData\\Local\\Temp/ipykernel_24744/1446524145.py:6: DeprecationWarning: executable_path has been deprecated, please pass in a Service object\n",
      "  driver=webdriver.Chrome('chromedriver.exe')\n"
     ]
    }
   ],
   "source": [
    "import pandas as pd\n",
    "import selenium\n",
    "from selenium import webdriver\n",
    "from selenium.common.exceptions import NoSuchElementException\n",
    "\n",
    "driver=webdriver.Chrome('chromedriver.exe')\n",
    "\n",
    "url='https://www.guru99.com/'\n",
    "driver.get(url)"
   ]
  },
  {
   "cell_type": "code",
   "execution_count": 46,
   "id": "68969a08",
   "metadata": {},
   "outputs": [
    {
     "name": "stderr",
     "output_type": "stream",
     "text": [
      "C:\\Users\\Swetha\\AppData\\Local\\Temp/ipykernel_24744/1375253423.py:1: DeprecationWarning: find_element_by_* commands are deprecated. Please use find_element() instead\n",
      "  search_tag=driver.find_element_by_id('gsc-i-id1')\n"
     ]
    }
   ],
   "source": [
    "search_tag=driver.find_element_by_id('gsc-i-id1')\n",
    "search_tag.send_keys('selenium exception handling')"
   ]
  },
  {
   "cell_type": "code",
   "execution_count": 55,
   "id": "35c5655b",
   "metadata": {},
   "outputs": [
    {
     "name": "stderr",
     "output_type": "stream",
     "text": [
      "C:\\Users\\Swetha\\AppData\\Local\\Temp/ipykernel_24744/4182746186.py:1: DeprecationWarning: find_elements_by_xpath is deprecated. Please use find_elements(by=By.XPATH, value=xpath) instead\n",
      "  search_button=driver.find_elements_by_xpath('//button[@class=\"gsc-search-button gsc-search-button-v2\"]')\n"
     ]
    }
   ],
   "source": [
    "search_button=driver.find_elements_by_xpath('//button[@class=\"gsc-search-button gsc-search-button-v2\"]')\n"
   ]
  },
  {
   "cell_type": "code",
   "execution_count": 56,
   "id": "8d92e2f6",
   "metadata": {},
   "outputs": [],
   "source": [
    "url='https://www.guru99.com/exception-handling-selenium.html'\n",
    "driver.get(url)"
   ]
  },
  {
   "cell_type": "code",
   "execution_count": 75,
   "id": "0d76c158",
   "metadata": {},
   "outputs": [
    {
     "name": "stderr",
     "output_type": "stream",
     "text": [
      "C:\\Users\\Swetha\\AppData\\Local\\Temp/ipykernel_24744/1617947267.py:4: DeprecationWarning: find_elements_by_xpath is deprecated. Please use find_elements(by=By.XPATH, value=xpath) instead\n",
      "  for i in driver.find_elements_by_xpath('/html/body/div[2]/section[3]/div/div[1]/main/div/div/div/div/div/div/div[2]/table/tbody/tr/td[1]'):\n",
      "C:\\Users\\Swetha\\AppData\\Local\\Temp/ipykernel_24744/1617947267.py:9: DeprecationWarning: find_elements_by_xpath is deprecated. Please use find_elements(by=By.XPATH, value=xpath) instead\n",
      "  for i in driver.find_elements_by_xpath('/html/body/div[2]/section[3]/div/div[1]/main/div/div/div/div/div/div/div[2]/table/tbody/tr/td[2]'):\n"
     ]
    }
   ],
   "source": [
    "Exception_name=[]\n",
    "Description=[]\n",
    "try:\n",
    "    for i in driver.find_elements_by_xpath('/html/body/div[2]/section[3]/div/div[1]/main/div/div/div/div/div/div/div[2]/table/tbody/tr/td[1]'):\n",
    "        Exception_name.append(i.text)\n",
    "except NoSuchElementException:\n",
    "    Exception_name.append('-')\n",
    "try:\n",
    "    for i in driver.find_elements_by_xpath('/html/body/div[2]/section[3]/div/div[1]/main/div/div/div/div/div/div/div[2]/table/tbody/tr/td[2]'):\n",
    "        Description.append(i.text)\n",
    "except NoSuchElementException:\n",
    "    Description.append('-')\n",
    "df3=pd.DataFrame()\n",
    "df3['Exception_name']=Exception_name\n",
    "df3['Description']=Description"
   ]
  },
  {
   "cell_type": "code",
   "execution_count": 78,
   "id": "5dc5f1ae",
   "metadata": {},
   "outputs": [],
   "source": [
    "driver.close()"
   ]
  },
  {
   "cell_type": "code",
   "execution_count": null,
   "id": "cb8fce9a",
   "metadata": {},
   "outputs": [],
   "source": []
  },
  {
   "cell_type": "markdown",
   "id": "b7347b7f",
   "metadata": {},
   "source": [
    "Question 4:\n",
    "\n",
    "Scrape the details of State-wise GDP of India from statisticstime.com.\n",
    "\n",
    "Url = http://statisticstimes.com/\n",
    "    \n",
    "You have to find following details:\n",
    "    \n",
    "A) Rank\n",
    "\n",
    "B) State\n",
    "\n",
    "C) GSDP at current price (19-20)\n",
    "\n",
    "D) GSDP at current price (18-19)\n",
    "\n",
    "E) Share(18-19)\n",
    "\n",
    "F) GDP($ billion)\n",
    "\n",
    "Note: - From statisticstimes home page you have to reach to economy page through code."
   ]
  },
  {
   "cell_type": "code",
   "execution_count": 80,
   "id": "893b6a54",
   "metadata": {},
   "outputs": [
    {
     "name": "stderr",
     "output_type": "stream",
     "text": [
      "C:\\Users\\Swetha\\AppData\\Local\\Temp/ipykernel_24744/4154650512.py:6: DeprecationWarning: executable_path has been deprecated, please pass in a Service object\n",
      "  driver=webdriver.Chrome('chromedriver.exe')\n"
     ]
    }
   ],
   "source": [
    "import pandas as pd\n",
    "import selenium\n",
    "from selenium import webdriver\n",
    "from selenium.common.exceptions import NoSuchElementException\n",
    "\n",
    "driver=webdriver.Chrome('chromedriver.exe')\n",
    "\n",
    "url='http://statisticstimes.com/'\n",
    "driver.get(url)"
   ]
  },
  {
   "cell_type": "code",
   "execution_count": 81,
   "id": "1c0b65f2",
   "metadata": {},
   "outputs": [
    {
     "name": "stderr",
     "output_type": "stream",
     "text": [
      "C:\\Users\\Swetha\\AppData\\Local\\Temp/ipykernel_24744/283579841.py:1: DeprecationWarning: find_element_by_xpath is deprecated. Please use find_element(by=By.XPATH, value=xpath) instead\n",
      "  Eco_drop=driver.find_element_by_xpath('//i[@class=\"fa fa-caret-down\"]')\n"
     ]
    }
   ],
   "source": [
    "Eco_drop=driver.find_element_by_xpath('//i[@class=\"fa fa-caret-down\"]')\n",
    "Eco_drop.click()"
   ]
  },
  {
   "cell_type": "code",
   "execution_count": 82,
   "id": "193c9d88",
   "metadata": {},
   "outputs": [],
   "source": [
    "driver.get('http://statisticstimes.com/economy/india/indian-states-gdp.php')"
   ]
  },
  {
   "cell_type": "code",
   "execution_count": 83,
   "id": "0f8765fa",
   "metadata": {},
   "outputs": [
    {
     "name": "stderr",
     "output_type": "stream",
     "text": [
      "C:\\Users\\Swetha\\AppData\\Local\\Temp/ipykernel_24744/2336806296.py:3: DeprecationWarning: find_elements_by_xpath is deprecated. Please use find_elements(by=By.XPATH, value=xpath) instead\n",
      "  for i in driver.find_elements_by_xpath('//td[@class=\"data1\"]'):\n",
      "C:\\Users\\Swetha\\AppData\\Local\\Temp/ipykernel_24744/2336806296.py:9: DeprecationWarning: find_elements_by_xpath is deprecated. Please use find_elements(by=By.XPATH, value=xpath) instead\n",
      "  for i in driver.find_elements_by_xpath('//td[@class=\"name\"]'):\n",
      "C:\\Users\\Swetha\\AppData\\Local\\Temp/ipykernel_24744/2336806296.py:15: DeprecationWarning: find_elements_by_xpath is deprecated. Please use find_elements(by=By.XPATH, value=xpath) instead\n",
      "  for i in driver.find_elements_by_xpath('//*[@id=\"table_id\"]/tbody/tr/td[3]'):\n",
      "C:\\Users\\Swetha\\AppData\\Local\\Temp/ipykernel_24744/2336806296.py:21: DeprecationWarning: find_elements_by_xpath is deprecated. Please use find_elements(by=By.XPATH, value=xpath) instead\n",
      "  for i in driver.find_elements_by_xpath('//*[@id=\"table_id\"]/tbody/tr/td[4]'):\n",
      "C:\\Users\\Swetha\\AppData\\Local\\Temp/ipykernel_24744/2336806296.py:27: DeprecationWarning: find_elements_by_xpath is deprecated. Please use find_elements(by=By.XPATH, value=xpath) instead\n",
      "  for i in driver.find_elements_by_xpath('//*[@id=\"table_id\"]/tbody/tr/td[5]'):\n",
      "C:\\Users\\Swetha\\AppData\\Local\\Temp/ipykernel_24744/2336806296.py:33: DeprecationWarning: find_elements_by_xpath is deprecated. Please use find_elements(by=By.XPATH, value=xpath) instead\n",
      "  for i in driver.find_elements_by_xpath('//*[@id=\"table_id\"]/tbody/tr/td[6]'):\n"
     ]
    },
    {
     "data": {
      "text/html": [
       "<div>\n",
       "<style scoped>\n",
       "    .dataframe tbody tr th:only-of-type {\n",
       "        vertical-align: middle;\n",
       "    }\n",
       "\n",
       "    .dataframe tbody tr th {\n",
       "        vertical-align: top;\n",
       "    }\n",
       "\n",
       "    .dataframe thead th {\n",
       "        text-align: right;\n",
       "    }\n",
       "</style>\n",
       "<table border=\"1\" class=\"dataframe\">\n",
       "  <thead>\n",
       "    <tr style=\"text-align: right;\">\n",
       "      <th></th>\n",
       "      <th>Rank</th>\n",
       "      <th>state</th>\n",
       "      <th>GDP_atcp_1920</th>\n",
       "      <th>GDP_atcp_1819</th>\n",
       "      <th>share</th>\n",
       "      <th>GDP_billion_dollars</th>\n",
       "    </tr>\n",
       "  </thead>\n",
       "  <tbody>\n",
       "    <tr>\n",
       "      <th>0</th>\n",
       "      <td>1</td>\n",
       "      <td>Maharashtra</td>\n",
       "      <td>-</td>\n",
       "      <td>2,632,792</td>\n",
       "      <td>13.94%</td>\n",
       "      <td>399.921</td>\n",
       "    </tr>\n",
       "    <tr>\n",
       "      <th>1</th>\n",
       "      <td>2</td>\n",
       "      <td>Tamil Nadu</td>\n",
       "      <td>1,845,853</td>\n",
       "      <td>1,630,208</td>\n",
       "      <td>8.63%</td>\n",
       "      <td>247.629</td>\n",
       "    </tr>\n",
       "    <tr>\n",
       "      <th>2</th>\n",
       "      <td>3</td>\n",
       "      <td>Uttar Pradesh</td>\n",
       "      <td>1,687,818</td>\n",
       "      <td>1,584,764</td>\n",
       "      <td>8.39%</td>\n",
       "      <td>240.726</td>\n",
       "    </tr>\n",
       "    <tr>\n",
       "      <th>3</th>\n",
       "      <td>4</td>\n",
       "      <td>Gujarat</td>\n",
       "      <td>-</td>\n",
       "      <td>1,502,899</td>\n",
       "      <td>7.96%</td>\n",
       "      <td>228.290</td>\n",
       "    </tr>\n",
       "    <tr>\n",
       "      <th>4</th>\n",
       "      <td>5</td>\n",
       "      <td>Karnataka</td>\n",
       "      <td>1,631,977</td>\n",
       "      <td>1,493,127</td>\n",
       "      <td>7.91%</td>\n",
       "      <td>226.806</td>\n",
       "    </tr>\n",
       "  </tbody>\n",
       "</table>\n",
       "</div>"
      ],
      "text/plain": [
       "  Rank          state GDP_atcp_1920 GDP_atcp_1819   share GDP_billion_dollars\n",
       "0    1    Maharashtra             -     2,632,792  13.94%             399.921\n",
       "1    2     Tamil Nadu     1,845,853     1,630,208   8.63%             247.629\n",
       "2    3  Uttar Pradesh     1,687,818     1,584,764   8.39%             240.726\n",
       "3    4        Gujarat             -     1,502,899   7.96%             228.290\n",
       "4    5      Karnataka     1,631,977     1,493,127   7.91%             226.806"
      ]
     },
     "execution_count": 83,
     "metadata": {},
     "output_type": "execute_result"
    }
   ],
   "source": [
    "Rank=[]\n",
    "try:\n",
    "    for i in driver.find_elements_by_xpath('//td[@class=\"data1\"]'):\n",
    "        Rank.append(i.text)\n",
    "except NoSuchElementException:\n",
    "    Rank.append(None)\n",
    "state=[]\n",
    "try:\n",
    "    for i in driver.find_elements_by_xpath('//td[@class=\"name\"]'):\n",
    "        state.append(i.text)\n",
    "except NoSuchElementException:\n",
    "    state.append(None)\n",
    "GDP_atcp_1920=[]\n",
    "try:\n",
    "    for i in driver.find_elements_by_xpath('//*[@id=\"table_id\"]/tbody/tr/td[3]'):\n",
    "        GDP_atcp_1920.append(i.text)\n",
    "except NoSuchElementException:\n",
    "    GDP_atcp_1920.append(None)\n",
    "GDP_atcp_1819=[]\n",
    "try:\n",
    "    for i in driver.find_elements_by_xpath('//*[@id=\"table_id\"]/tbody/tr/td[4]'):\n",
    "        GDP_atcp_1819.append(i.text)\n",
    "except NoSuchElementException:\n",
    "    GDP_atcp_1819.append(None)\n",
    "share=[]\n",
    "try:\n",
    "    for i in driver.find_elements_by_xpath('//*[@id=\"table_id\"]/tbody/tr/td[5]'):\n",
    "        share.append(i.text)\n",
    "except NoSuchElementException:\n",
    "    share.append(None)\n",
    "GDP_billion_dollars=[]\n",
    "try:\n",
    "    for i in driver.find_elements_by_xpath('//*[@id=\"table_id\"]/tbody/tr/td[6]'):\n",
    "        GDP_billion_dollars.append(i.text)\n",
    "except NoSuchElementException:\n",
    "    GDP_billion_dollars.append(None)\n",
    "df4=pd.DataFrame()\n",
    "df4['Rank']=Rank[0:33]\n",
    "df4['state']=state[0:33]\n",
    "df4['GDP_atcp_1920']=GDP_atcp_1920\n",
    "df4['GDP_atcp_1819']=GDP_atcp_1819\n",
    "df4['share']=share\n",
    "df4['GDP_billion_dollars']=GDP_billion_dollars\n",
    "df4.head()"
   ]
  },
  {
   "cell_type": "code",
   "execution_count": 84,
   "id": "f3f631f1",
   "metadata": {},
   "outputs": [],
   "source": [
    "driver.close()"
   ]
  },
  {
   "cell_type": "code",
   "execution_count": null,
   "id": "86809ad7",
   "metadata": {},
   "outputs": [],
   "source": []
  },
  {
   "cell_type": "markdown",
   "id": "fee66579",
   "metadata": {},
   "source": [
    "Question 5:\n",
    "\n",
    "Scrape the details of trending repositories on Github.com.\n",
    "Url = https://github.com/\n",
    "    \n",
    "You have to find the following details:\n",
    "    \n",
    "A) Repository title\n",
    "\n",
    "B) Repository description\n",
    "\n",
    "C) Contributors count\n",
    "\n",
    "D) Language used\n",
    "\n",
    "Note: - From the home page you have to click on the trending option from Explore menu through code."
   ]
  },
  {
   "cell_type": "code",
   "execution_count": 1,
   "id": "7b8cb9cc",
   "metadata": {},
   "outputs": [
    {
     "name": "stderr",
     "output_type": "stream",
     "text": [
      "C:\\Users\\Swetha\\AppData\\Local\\Temp/ipykernel_25320/3787532353.py:6: DeprecationWarning: executable_path has been deprecated, please pass in a Service object\n",
      "  driver=webdriver.Chrome('chromedriver.exe')\n"
     ]
    }
   ],
   "source": [
    "import pandas as pd\n",
    "import selenium\n",
    "from selenium import webdriver\n",
    "from selenium.common.exceptions import NoSuchElementException\n",
    "\n",
    "driver=webdriver.Chrome('chromedriver.exe')\n",
    "\n",
    "url='https://github.com/'\n",
    "driver.get(url)"
   ]
  },
  {
   "cell_type": "code",
   "execution_count": 10,
   "id": "48ec3f50",
   "metadata": {},
   "outputs": [
    {
     "name": "stderr",
     "output_type": "stream",
     "text": [
      "C:\\Users\\Swetha\\AppData\\Local\\Temp/ipykernel_25320/3511124006.py:3: DeprecationWarning: find_elements_by_xpath is deprecated. Please use find_elements(by=By.XPATH, value=xpath) instead\n",
      "  for i in driver.find_elements_by_xpath('//h1[@class=\"h3 lh-condensed\"]'):\n"
     ]
    }
   ],
   "source": [
    "Repository_title=[]\n",
    "try:\n",
    "    for i in driver.find_elements_by_xpath('//h1[@class=\"h3 lh-condensed\"]'):\n",
    "        Repository_title.append(i.text)\n",
    "except NoSuchElementException:\n",
    "    Repository_title.append(None)"
   ]
  },
  {
   "cell_type": "code",
   "execution_count": 11,
   "id": "87bd0154",
   "metadata": {},
   "outputs": [
    {
     "data": {
      "text/plain": [
       "25"
      ]
     },
     "execution_count": 11,
     "metadata": {},
     "output_type": "execute_result"
    }
   ],
   "source": [
    "len(Repository_title)"
   ]
  },
  {
   "cell_type": "code",
   "execution_count": 12,
   "id": "4e2c9dcd",
   "metadata": {},
   "outputs": [
    {
     "name": "stdout",
     "output_type": "stream",
     "text": [
      "['facebookresearch / metaseq', 'education / GitHubGraduation-2022', 'freeCodeCamp / freeCodeCamp', 'scottbez1 / smartknob', 'microsoft / PowerToys', 'pyscript / pyscript', 'huggingface / deep-rl-class', 'Dimbreath / GenshinData', 'mikeroyal / Digital-Forensics-Guide', 'Grasscutters / Grasscutter', 'microsoft / ML-For-Beginners', 'directus / directus', 'Azure / MachineLearningNotebooks', 'baptixta / game-design-refs', 'justjavac / free-programming-books-zh_CN', 'dotnet / docs', 'aptos-labs / aptos-core', 'bhaiest / holoiso', 'NginxProxyManager / nginx-proxy-manager', 'Azure / azure-quickstart-templates', 'SebLague / Geographical-Adventures', 'apple / ml-cvnets', 'flybywiresim / a32nx', 'monicahq / monica', 'grafana / grafana']\n"
     ]
    }
   ],
   "source": [
    "print(Repository_title)"
   ]
  },
  {
   "cell_type": "code",
   "execution_count": 13,
   "id": "4e213c98",
   "metadata": {},
   "outputs": [
    {
     "name": "stderr",
     "output_type": "stream",
     "text": [
      "C:\\Users\\Swetha\\AppData\\Local\\Temp/ipykernel_25320/3650823784.py:3: DeprecationWarning: find_elements_by_xpath is deprecated. Please use find_elements(by=By.XPATH, value=xpath) instead\n",
      "  for i in driver.find_elements_by_xpath('//p[@class=\"col-9 color-fg-muted my-1 pr-4\"]'):\n"
     ]
    }
   ],
   "source": [
    "Repository_description=[]\n",
    "try:\n",
    "    for i in driver.find_elements_by_xpath('//p[@class=\"col-9 color-fg-muted my-1 pr-4\"]'):\n",
    "        Repository_description.append(i.text)\n",
    "except NoSuchElementException:\n",
    "    Repository_description.append(None)"
   ]
  },
  {
   "cell_type": "code",
   "execution_count": 14,
   "id": "2a0401f3",
   "metadata": {},
   "outputs": [
    {
     "data": {
      "text/plain": [
       "23"
      ]
     },
     "execution_count": 14,
     "metadata": {},
     "output_type": "execute_result"
    }
   ],
   "source": [
    "len(Repository_description)"
   ]
  },
  {
   "cell_type": "code",
   "execution_count": 15,
   "id": "2f34a8f2",
   "metadata": {},
   "outputs": [
    {
     "name": "stdout",
     "output_type": "stream",
     "text": [
      "['Repo for external large-scale work', 'Join the GitHub Graduation Yearbook and \"walk the stage\" on June 11.', \"freeCodeCamp.org's open-source codebase and curriculum. Learn to code for free.\", 'Haptic input knob with software-defined endstops and virtual detents', 'Windows system utilities to maximize productivity', 'This repo contain the syllabus of the Hugging Face Deep Reinforcement Learning Class.', 'Repository containing the game data for the game Genshin Impact.', 'Digital Forensics Guide', 'A server software reimplementation for a certain anime game.', '12 weeks, 26 lessons, 52 quizzes, classic Machine Learning for all', 'The Modern Data Stack 🐰 — Directus is an instant REST+GraphQL API and intuitive no-code data collaboration app for any SQL database.', 'Python notebooks with ML and deep learning examples with Azure Machine Learning Python SDK | Microsoft', '🎮 Referências para Game Designers.', '📚 免费的计算机编程类中文书籍，欢迎投稿', 'This repository contains .NET Documentation.', 'A layer 1 for everyone!', 'SteamOS 3 (Holo) archiso configuration', 'Docker container for managing Nginx proxy hosts with a simple, powerful interface', 'Azure Quickstart Templates', 'CVNets: A library for training computer vision networks', 'The A32NX Project is a community driven open source project to create a free Airbus A320neo in Microsoft Flight Simulator that is as close to reality as possible.', 'Personal CRM. Remember everything about your friends, family and business relationships.', 'The open and composable observability and data visualization platform. Visualize metrics, logs, and traces from multiple sources like Prometheus, Loki, Elasticsearch, InfluxDB, Postgres and many more.']\n"
     ]
    }
   ],
   "source": [
    "print(Repository_description)"
   ]
  },
  {
   "cell_type": "code",
   "execution_count": 16,
   "id": "570716bd",
   "metadata": {},
   "outputs": [
    {
     "data": {
      "text/plain": [
       "23"
      ]
     },
     "execution_count": 16,
     "metadata": {},
     "output_type": "execute_result"
    }
   ],
   "source": [
    "len(Repository_description)"
   ]
  },
  {
   "cell_type": "code",
   "execution_count": 17,
   "id": "03f3fe6c",
   "metadata": {},
   "outputs": [],
   "source": [
    "Repository_description.insert(1,'No description')"
   ]
  },
  {
   "cell_type": "code",
   "execution_count": 18,
   "id": "ab536e3f",
   "metadata": {},
   "outputs": [],
   "source": [
    "Repository_description.insert(16,'No description')"
   ]
  },
  {
   "cell_type": "code",
   "execution_count": 19,
   "id": "d738476d",
   "metadata": {},
   "outputs": [
    {
     "name": "stderr",
     "output_type": "stream",
     "text": [
      "C:\\Users\\Swetha\\AppData\\Local\\Temp/ipykernel_25320/3280660037.py:3: DeprecationWarning: find_elements_by_xpath is deprecated. Please use find_elements(by=By.XPATH, value=xpath) instead\n",
      "  for i in driver.find_elements_by_xpath('//*[@id=\"js-pjax-container\"]/div[3]/div/div[2]/article/div/a[2]'):\n"
     ]
    }
   ],
   "source": [
    "Contributors_count1=[]\n",
    "try:\n",
    "    for i in driver.find_elements_by_xpath('//*[@id=\"js-pjax-container\"]/div[3]/div/div[2]/article/div/a[2]'):\n",
    "        Contributors_count1.append(i.text)\n",
    "except NoSuchElementException:\n",
    "    Contributors_count1.append(\"-\")"
   ]
  },
  {
   "cell_type": "code",
   "execution_count": 20,
   "id": "f181871f",
   "metadata": {},
   "outputs": [
    {
     "name": "stdout",
     "output_type": "stream",
     "text": [
      "['124', '2,962', '28,592', '455', '4,096', '363', '60', '331', '17', '1,724', '6,781', '1,770', '2,135', '7', '26,025', '5,101', '353', '7', '928', '14,411', '165', '70', '840', '1,675', '9,573']\n"
     ]
    }
   ],
   "source": [
    "print(Contributors_count1)"
   ]
  },
  {
   "cell_type": "code",
   "execution_count": 21,
   "id": "a95212f9",
   "metadata": {},
   "outputs": [
    {
     "data": {
      "text/plain": [
       "25"
      ]
     },
     "execution_count": 21,
     "metadata": {},
     "output_type": "execute_result"
    }
   ],
   "source": [
    "len(Contributors_count1)"
   ]
  },
  {
   "cell_type": "code",
   "execution_count": 22,
   "id": "14f70f2d",
   "metadata": {},
   "outputs": [],
   "source": [
    "Contributors_count=Contributors_count1[0:23]"
   ]
  },
  {
   "cell_type": "code",
   "execution_count": 23,
   "id": "d2a6fdb3",
   "metadata": {},
   "outputs": [
    {
     "name": "stderr",
     "output_type": "stream",
     "text": [
      "C:\\Users\\Swetha\\AppData\\Local\\Temp/ipykernel_25320/3786286846.py:3: DeprecationWarning: find_elements_by_xpath is deprecated. Please use find_elements(by=By.XPATH, value=xpath) instead\n",
      "  for i in driver.find_elements_by_xpath('//*[@id=\"js-pjax-container\"]/div[3]/div/div[2]/article/div/span/span[2]'):\n"
     ]
    }
   ],
   "source": [
    "language_used=[]\n",
    "try:\n",
    "    for i in driver.find_elements_by_xpath('//*[@id=\"js-pjax-container\"]/div[3]/div/div[2]/article/div/span/span[2]'):\n",
    "        language_used.append(i.text)\n",
    "except NoSuchElementException:\n",
    "    language_used.append(\"-\")"
   ]
  },
  {
   "cell_type": "code",
   "execution_count": 24,
   "id": "d057482e",
   "metadata": {},
   "outputs": [
    {
     "name": "stdout",
     "output_type": "stream",
     "text": [
      "['Python', 'JavaScript', 'TypeScript', 'C++', 'C#', 'JavaScript', 'Jupyter Notebook', 'Python', 'Java', 'Jupyter Notebook', 'TypeScript', 'Jupyter Notebook', 'Rust', 'Shell', 'JavaScript', 'Shell', 'C#', 'Python', 'JavaScript', 'PHP', 'TypeScript']\n"
     ]
    }
   ],
   "source": [
    "print(language_used)"
   ]
  },
  {
   "cell_type": "code",
   "execution_count": 25,
   "id": "40ed9499",
   "metadata": {},
   "outputs": [
    {
     "data": {
      "text/plain": [
       "21"
      ]
     },
     "execution_count": 25,
     "metadata": {},
     "output_type": "execute_result"
    }
   ],
   "source": [
    "len(language_used)"
   ]
  },
  {
   "cell_type": "code",
   "execution_count": 26,
   "id": "1ded8c6a",
   "metadata": {},
   "outputs": [
    {
     "data": {
      "text/html": [
       "<div>\n",
       "<style scoped>\n",
       "    .dataframe tbody tr th:only-of-type {\n",
       "        vertical-align: middle;\n",
       "    }\n",
       "\n",
       "    .dataframe tbody tr th {\n",
       "        vertical-align: top;\n",
       "    }\n",
       "\n",
       "    .dataframe thead th {\n",
       "        text-align: right;\n",
       "    }\n",
       "</style>\n",
       "<table border=\"1\" class=\"dataframe\">\n",
       "  <thead>\n",
       "    <tr style=\"text-align: right;\">\n",
       "      <th></th>\n",
       "      <th>Repository_title</th>\n",
       "      <th>Repository_description</th>\n",
       "      <th>Contributors_count</th>\n",
       "      <th>language_used</th>\n",
       "    </tr>\n",
       "  </thead>\n",
       "  <tbody>\n",
       "    <tr>\n",
       "      <th>0</th>\n",
       "      <td>facebookresearch / metaseq</td>\n",
       "      <td>Repo for external large-scale work</td>\n",
       "      <td>124</td>\n",
       "      <td>Python</td>\n",
       "    </tr>\n",
       "    <tr>\n",
       "      <th>1</th>\n",
       "      <td>education / GitHubGraduation-2022</td>\n",
       "      <td>No description</td>\n",
       "      <td>2,962</td>\n",
       "      <td>JavaScript</td>\n",
       "    </tr>\n",
       "    <tr>\n",
       "      <th>2</th>\n",
       "      <td>freeCodeCamp / freeCodeCamp</td>\n",
       "      <td>Join the GitHub Graduation Yearbook and \"walk ...</td>\n",
       "      <td>28,592</td>\n",
       "      <td>TypeScript</td>\n",
       "    </tr>\n",
       "    <tr>\n",
       "      <th>3</th>\n",
       "      <td>scottbez1 / smartknob</td>\n",
       "      <td>freeCodeCamp.org's open-source codebase and cu...</td>\n",
       "      <td>455</td>\n",
       "      <td>C++</td>\n",
       "    </tr>\n",
       "    <tr>\n",
       "      <th>4</th>\n",
       "      <td>microsoft / PowerToys</td>\n",
       "      <td>Haptic input knob with software-defined endsto...</td>\n",
       "      <td>4,096</td>\n",
       "      <td>C#</td>\n",
       "    </tr>\n",
       "  </tbody>\n",
       "</table>\n",
       "</div>"
      ],
      "text/plain": [
       "                    Repository_title  \\\n",
       "0         facebookresearch / metaseq   \n",
       "1  education / GitHubGraduation-2022   \n",
       "2        freeCodeCamp / freeCodeCamp   \n",
       "3              scottbez1 / smartknob   \n",
       "4              microsoft / PowerToys   \n",
       "\n",
       "                              Repository_description Contributors_count  \\\n",
       "0                 Repo for external large-scale work                124   \n",
       "1                                     No description              2,962   \n",
       "2  Join the GitHub Graduation Yearbook and \"walk ...             28,592   \n",
       "3  freeCodeCamp.org's open-source codebase and cu...                455   \n",
       "4  Haptic input knob with software-defined endsto...              4,096   \n",
       "\n",
       "  language_used  \n",
       "0        Python  \n",
       "1    JavaScript  \n",
       "2    TypeScript  \n",
       "3           C++  \n",
       "4            C#  "
      ]
     },
     "execution_count": 26,
     "metadata": {},
     "output_type": "execute_result"
    }
   ],
   "source": [
    "df=pd.DataFrame()\n",
    "df['Repository_title']=Repository_title[0:21]\n",
    "df['Repository_description']=Repository_description[0:21]\n",
    "df['Contributors_count']=Contributors_count[0:21]\n",
    "df['language_used']=language_used\n",
    "df.head()"
   ]
  },
  {
   "cell_type": "code",
   "execution_count": 27,
   "id": "e228b4ec",
   "metadata": {},
   "outputs": [],
   "source": [
    "driver.close()"
   ]
  },
  {
   "cell_type": "code",
   "execution_count": null,
   "id": "1de48075",
   "metadata": {},
   "outputs": [],
   "source": []
  },
  {
   "cell_type": "markdown",
   "id": "bd4bb686",
   "metadata": {},
   "source": [
    "Question 6:\n",
    "\n",
    "Scrape the details of top 100 songs on billboard.com.\n",
    "\n",
    "Url = https://www.billboard.com/\n",
    "    \n",
    "You have to find the following details:\n",
    "    \n",
    "A) Song name\n",
    "\n",
    "B) Artist name\n",
    "\n",
    "C) Last week rank\n",
    "\n",
    "D) Peak rank\n",
    "\n",
    "E) Weeks on board\n",
    "\n",
    "Note: - From the home page you have to click on the charts option then hot 100-page link through code."
   ]
  },
  {
   "cell_type": "code",
   "execution_count": 1,
   "id": "04efc56e",
   "metadata": {},
   "outputs": [
    {
     "name": "stderr",
     "output_type": "stream",
     "text": [
      "C:\\Users\\Swetha\\AppData\\Local\\Temp/ipykernel_17672/2777515841.py:6: DeprecationWarning: executable_path has been deprecated, please pass in a Service object\n",
      "  driver=webdriver.Chrome('chromedriver.exe')\n"
     ]
    }
   ],
   "source": [
    "import pandas as pd\n",
    "import selenium\n",
    "from selenium import webdriver\n",
    "from selenium.common.exceptions import NoSuchElementException\n",
    "\n",
    "driver=webdriver.Chrome('chromedriver.exe')\n",
    "\n",
    "url='https://www.billboard.com/'\n",
    "driver.get(url)"
   ]
  },
  {
   "cell_type": "code",
   "execution_count": 2,
   "id": "f6a3a8ed",
   "metadata": {},
   "outputs": [
    {
     "name": "stderr",
     "output_type": "stream",
     "text": [
      "C:\\Users\\Swetha\\AppData\\Local\\Temp/ipykernel_17672/2279700507.py:2: DeprecationWarning: find_elements_by_xpath is deprecated. Please use find_elements(by=By.XPATH, value=xpath) instead\n",
      "  for i in driver.find_elements_by_xpath('/html/body/div[3]/header/div[2]/div/nav/ul/li[1]/a'):\n"
     ]
    }
   ],
   "source": [
    "link=[]\n",
    "for i in driver.find_elements_by_xpath('/html/body/div[3]/header/div[2]/div/nav/ul/li[1]/a'):\n",
    "    link.append(i.get_attribute('href'))"
   ]
  },
  {
   "cell_type": "code",
   "execution_count": 4,
   "id": "05cd1818",
   "metadata": {},
   "outputs": [],
   "source": [
    "Song_name=[]\n",
    "Artist_name=[]\n",
    "Last_week_rank=[]\n",
    "peak_rank=[]\n",
    "weeks_on_board=[]"
   ]
  },
  {
   "cell_type": "code",
   "execution_count": 7,
   "id": "62047691",
   "metadata": {},
   "outputs": [
    {
     "name": "stderr",
     "output_type": "stream",
     "text": [
      "C:\\Users\\Swetha\\AppData\\Local\\Temp/ipykernel_17672/2938248069.py:2: DeprecationWarning: find_elements_by_xpath is deprecated. Please use find_elements(by=By.XPATH, value=xpath) instead\n",
      "  for i in driver.find_elements_by_xpath('//li[@class=\"lrv-u-width-100p\"]'):\n"
     ]
    }
   ],
   "source": [
    "try:\n",
    "    for i in driver.find_elements_by_xpath('//li[@class=\"lrv-u-width-100p\"]'):\n",
    "        Song_name.append(i.text)\n",
    "except NoSuchElementException:\n",
    "    Song_name.append(i.text)"
   ]
  },
  {
   "cell_type": "code",
   "execution_count": 8,
   "id": "2138ba0f",
   "metadata": {},
   "outputs": [
    {
     "name": "stdout",
     "output_type": "stream",
     "text": [
      "['As It Was\\nHarry Styles\\n1\\n1\\n4', 'First Class\\nJack Harlow\\n2\\n1\\n3', 'Heat Waves\\nGlass Animals\\n3\\n1\\n67', 'Big Energy\\nLatto\\n4\\n3\\n27', 'Enemy\\nImagine Dragons X JID\\n5\\n5\\n23', 'Stay\\nThe Kid LAROI & Justin Bieber\\n6\\n1\\n42', 'Woman\\nDoja Cat\\n8\\n7\\n39', 'Ghost\\nJustin Bieber\\n10\\n5\\n31', 'Super Gremlin\\nKodak Black\\n9\\n3\\n25', 'Thats What I Want\\nLil Nas X\\n11\\n8\\n32', 'Bad Habits\\nEd Sheeran\\n12\\n2\\n44', 'Shivers\\nEd Sheeran\\n14\\n4\\n33', 'abcdefu\\nGAYLE\\n13\\n3\\n23', 'Cold Heart (PNAU Remix)\\nElton John & Dua Lipa\\n15\\n7\\n34', 'Thousand Miles\\nThe Kid LAROI\\n-\\n15\\n1', 'Save Your Tears\\nThe Weeknd & Ariana Grande\\n18\\n1\\n69', 'One Right Now\\nPost Malone & The Weeknd\\n19\\n6\\n25', 'Levitating\\nDua Lipa\\n21\\n2\\n77', 'Need To Know\\nDoja Cat\\n17\\n8\\n46', 'MAMIII\\nBecky G X Karol G\\n24\\n15\\n11', 'Bam Bam\\nCamila Cabello Featuring Ed Sheeran\\n25\\n21\\n8', 'Industry Baby\\nLil Nas X & Jack Harlow\\n23\\n1\\n40', \"'Til You Can't\\nCody Johnson\\n22\\n18\\n29\", 'Easy On Me\\nAdele\\n16\\n1\\n29', 'In A Minute\\nLil Baby\\n20\\n14\\n3', \"Doin' This\\nLuke Combs\\n30\\n26\\n20\", 'Wasted On You\\nMorgan Wallen\\n31\\n9\\n24', 'AA\\nWalker Hayes\\n32\\n28\\n16', 'Plan B\\nMegan Thee Stallion\\n-\\n29\\n1', 'Hrs And Hrs\\nMuni Long\\n26\\n16\\n18', 'Boyfriend\\nDove Cameron\\n37\\n31\\n11', 'Sweetest Pie\\nMegan Thee Stallion & Dua Lipa\\n34\\n15\\n7', 'Trouble With A Heartbreak\\nJason Aldean\\n59\\n33\\n6', 'Right On\\nLil Baby\\n28\\n13\\n3', 'Good 4 U\\nOlivia Rodrigo\\n33\\n1\\n50', 'Provenza\\nKarol G\\n-\\n36\\n1', 'Numb Little Bug\\nEm Beihold\\n40\\n37\\n13', 'To The Moon!\\nJNR CHOI & Sam Tompkins\\n38\\n38\\n9', 'I Hate U\\nSZA\\n36\\n7\\n21', \"We Don't Talk About Bruno\\nCarolina Gaitan, Mauro Castillo, Adassa, Rhenzy Feliz, Diane Guerrero, Stephanie Beatriz & Encanto Cast\\n27\\n1\\n18\", 'Never Say Never\\nCole Swindell / Lainey Wilson\\n29\\n27\\n15', \"Don't Think Jesus\\nMorgan Wallen\\n7\\n7\\n2\", 'You Right\\nDoja Cat & The Weeknd\\n39\\n11\\n43', 'Fingers Crossed\\nLauren Spencer-Smith\\n35\\n19\\n17', 'Fancy Like\\nWalker Hayes\\n41\\n3\\n45', 'Sand In My Boots\\nMorgan Wallen\\n42\\n30\\n41', \"She's All I Wanna Be\\nTate McRae\\n47\\n44\\n12\", 'The Motto\\nTiesto & Ava Max\\n46\\n42\\n13', 'What Happened To Virgil\\nLil Durk Featuring Gunna\\n43\\n22\\n7', \"When You're Gone\\nShawn Mendes\\n48\\n38\\n4\", '2step\\nEd Sheeran Featuring Lil Baby\\n-\\n51\\n1', 'Beers On Me\\nDierks Bentley, BRELAND & HARDY\\n45\\n40\\n18', 'Pushin P\\nGunna & Future Featuring Young Thug\\n44\\n7\\n16', 'Freaky Deaky\\nTyga X Doja Cat\\n57\\n43\\n9', 'Something In The Orange\\nZach Bryan\\n-\\n55\\n1', 'Peru\\nFireboy DML & Ed Sheeran\\n54\\n53\\n13', 'Hold That Heat\\nSouthside, Travis Scott & Future\\n-\\n57\\n1', 'If I Was A Cowboy\\nMiranda Lambert\\n53\\n53\\n13', 'Scrape It Off\\nPusha T Featuring Lil Uzi Vert & Don Toliver\\n-\\n59\\n1', 'About Damn Time\\nLizzo\\n50\\n50\\n2', 'Tomorrow Me\\nLuke Combs\\n-\\n61\\n1', 'Slow Down Summer\\nThomas Rhett\\n64\\n43\\n10', 'Never Wanted To Be That Girl\\nCarly Pearce & Ashley McBryde\\n66\\n63\\n16', 'Light Switch\\nCharlie Puth\\n52\\n27\\n14', '23\\nSam Hunt\\n58\\n50\\n18', 'Me Or Sum\\nNardo Wick, Lil Baby & Future\\n67\\n58\\n16', 'Broadway Girls\\nLil Durk Featuring Morgan Wallen\\n60\\n14\\n19', 'Flowers\\nLauren Spencer-Smith\\n55\\n55\\n2', 'No Love\\nSummer Walker & SZA\\n62\\n13\\n17', 'Flower Shops\\nERNEST Featuring Morgan Wallen\\n65\\n64\\n14', 'Nail Tech\\nJack Harlow\\n56\\n18\\n10', 'Give Heaven Some Hell\\nHARDY\\n69\\n69\\n9', 'Get Into It (Yuh)\\nDoja Cat\\n73\\n68\\n21', 'Take My Name\\nParmalee\\n75\\n74\\n4', 'Surface Pressure\\nJessica Darrow\\n63\\n8\\n18', 'Neck & Wrist\\nPusha T Featuring JAY-Z & Pharrell Williams\\n-\\n76\\n2', 'Handsomer\\nRuss Featuring Ktlyn\\n70\\n40\\n8', 'Rock N Roll\\nPusha T Featuring Kanye West & Kid Cudi\\n-\\n78\\n1', 'Ahhh Ha\\nLil Durk\\n68\\n18\\n10', 'Do We Have A Problem?\\nNicki Minaj X Lil Baby\\n72\\n2\\n12', 'Dreamin Of The Past\\nPusha T Featuring Kanye West\\n-\\n81\\n1', 'Circles Around This Town\\nMaren Morris\\n77\\n52\\n16', 'Damn Strait\\nScotty McCreery\\n76\\n76\\n4', 'Envolver\\nAnitta\\n71\\n70\\n5', 'Shake It\\nKay Flock, Cardi B, Dougie B & Bory300\\n51\\n51\\n2', 'I Love You So\\nThe Walters\\n81\\n71\\n15', 'Rumors\\nGucci Mane Featuring Lil Durk\\n74\\n51\\n13', 'She Likes It\\nRussell Dickerson & Jake Scott\\n89\\n86\\n6', 'In My Head\\nLil Tjay\\n78\\n33\\n4', 'Soy El Unico\\nYahritza y Su Esencia\\n80\\n20\\n5', 'Leave You Alone\\nKane Brown\\n86\\n86\\n2', 'Out Of Time\\nThe Weeknd\\n-\\n32\\n3', 'Banking On Me\\nGunna\\n88\\n61\\n10', 'Come Back As A Country Boy\\nBlake Shelton\\n82\\n81\\n13', 'Desesperados\\nRauw Alejandro & Chencho Corleone\\n91\\n91\\n4', 'Bones\\nImagine Dragons\\n87\\n87\\n7', 'Hate Our Love\\nQueen Naija & Big Sean\\n94\\n88\\n3', 'Over\\nLucky Daye\\n92\\n77\\n6', 'City Of Gods\\nFivio Foreign, Kanye West & Alicia Keys\\n84\\n46\\n10', 'Brambleton\\nPusha T\\n-\\n100\\n1']\n"
     ]
    },
    {
     "data": {
      "text/plain": [
       "100"
      ]
     },
     "execution_count": 8,
     "metadata": {},
     "output_type": "execute_result"
    }
   ],
   "source": [
    "print(Song_name)\n",
    "len(Song_name)"
   ]
  },
  {
   "cell_type": "code",
   "execution_count": 15,
   "id": "5c9dbf1e",
   "metadata": {},
   "outputs": [
    {
     "name": "stderr",
     "output_type": "stream",
     "text": [
      "C:\\Users\\Swetha\\AppData\\Local\\Temp/ipykernel_17672/3029350967.py:2: DeprecationWarning: find_elements_by_xpath is deprecated. Please use find_elements(by=By.XPATH, value=xpath) instead\n",
      "  for i in driver.find_elements_by_xpath('//li[@class=\"lrv-u-width-100p\"]'):\n"
     ]
    }
   ],
   "source": [
    "try:\n",
    "    for i in driver.find_elements_by_xpath('//li[@class=\"lrv-u-width-100p\"]'):\n",
    "        Artist_name.append(i.text)\n",
    "except NoSuchElementException:\n",
    "    Artist_name.append('not known')"
   ]
  },
  {
   "cell_type": "code",
   "execution_count": 16,
   "id": "6e73143e",
   "metadata": {},
   "outputs": [
    {
     "name": "stdout",
     "output_type": "stream",
     "text": [
      "['Harry Styles', 'Harry Styles', 'As It Was\\nHarry Styles\\n1\\n1\\n4', 'First Class\\nJack Harlow\\n2\\n1\\n3', 'Heat Waves\\nGlass Animals\\n3\\n1\\n67', 'Big Energy\\nLatto\\n4\\n3\\n27', 'Enemy\\nImagine Dragons X JID\\n5\\n5\\n23', 'Stay\\nThe Kid LAROI & Justin Bieber\\n6\\n1\\n42', 'Woman\\nDoja Cat\\n8\\n7\\n39', 'Ghost\\nJustin Bieber\\n10\\n5\\n31', 'Super Gremlin\\nKodak Black\\n9\\n3\\n25', 'Thats What I Want\\nLil Nas X\\n11\\n8\\n32', 'Bad Habits\\nEd Sheeran\\n12\\n2\\n44', 'Shivers\\nEd Sheeran\\n14\\n4\\n33', 'abcdefu\\nGAYLE\\n13\\n3\\n23', 'Cold Heart (PNAU Remix)\\nElton John & Dua Lipa\\n15\\n7\\n34', 'Thousand Miles\\nThe Kid LAROI\\n-\\n15\\n1', 'Save Your Tears\\nThe Weeknd & Ariana Grande\\n18\\n1\\n69', 'One Right Now\\nPost Malone & The Weeknd\\n19\\n6\\n25', 'Levitating\\nDua Lipa\\n21\\n2\\n77', 'Need To Know\\nDoja Cat\\n17\\n8\\n46', 'MAMIII\\nBecky G X Karol G\\n24\\n15\\n11', 'Bam Bam\\nCamila Cabello Featuring Ed Sheeran\\n25\\n21\\n8', 'Industry Baby\\nLil Nas X & Jack Harlow\\n23\\n1\\n40', \"'Til You Can't\\nCody Johnson\\n22\\n18\\n29\", 'Easy On Me\\nAdele\\n16\\n1\\n29', 'In A Minute\\nLil Baby\\n20\\n14\\n3', \"Doin' This\\nLuke Combs\\n30\\n26\\n20\", 'Wasted On You\\nMorgan Wallen\\n31\\n9\\n24', 'AA\\nWalker Hayes\\n32\\n28\\n16', 'Plan B\\nMegan Thee Stallion\\n-\\n29\\n1', 'Hrs And Hrs\\nMuni Long\\n26\\n16\\n18', 'Boyfriend\\nDove Cameron\\n37\\n31\\n11', 'Sweetest Pie\\nMegan Thee Stallion & Dua Lipa\\n34\\n15\\n7', 'Trouble With A Heartbreak\\nJason Aldean\\n59\\n33\\n6', 'Right On\\nLil Baby\\n28\\n13\\n3', 'Good 4 U\\nOlivia Rodrigo\\n33\\n1\\n50', 'Provenza\\nKarol G\\n-\\n36\\n1', 'Numb Little Bug\\nEm Beihold\\n40\\n37\\n13', 'To The Moon!\\nJNR CHOI & Sam Tompkins\\n38\\n38\\n9', 'I Hate U\\nSZA\\n36\\n7\\n21', \"We Don't Talk About Bruno\\nCarolina Gaitan, Mauro Castillo, Adassa, Rhenzy Feliz, Diane Guerrero, Stephanie Beatriz & Encanto Cast\\n27\\n1\\n18\", 'Never Say Never\\nCole Swindell / Lainey Wilson\\n29\\n27\\n15', \"Don't Think Jesus\\nMorgan Wallen\\n7\\n7\\n2\", 'You Right\\nDoja Cat & The Weeknd\\n39\\n11\\n43', 'Fingers Crossed\\nLauren Spencer-Smith\\n35\\n19\\n17', 'Fancy Like\\nWalker Hayes\\n41\\n3\\n45', 'Sand In My Boots\\nMorgan Wallen\\n42\\n30\\n41', \"She's All I Wanna Be\\nTate McRae\\n47\\n44\\n12\", 'The Motto\\nTiesto & Ava Max\\n46\\n42\\n13', 'What Happened To Virgil\\nLil Durk Featuring Gunna\\n43\\n22\\n7', \"When You're Gone\\nShawn Mendes\\n48\\n38\\n4\", '2step\\nEd Sheeran Featuring Lil Baby\\n-\\n51\\n1', 'Beers On Me\\nDierks Bentley, BRELAND & HARDY\\n45\\n40\\n18', 'Pushin P\\nGunna & Future Featuring Young Thug\\n44\\n7\\n16', 'Freaky Deaky\\nTyga X Doja Cat\\n57\\n43\\n9', 'Something In The Orange\\nZach Bryan\\n-\\n55\\n1', 'Peru\\nFireboy DML & Ed Sheeran\\n54\\n53\\n13', 'Hold That Heat\\nSouthside, Travis Scott & Future\\n-\\n57\\n1', 'If I Was A Cowboy\\nMiranda Lambert\\n53\\n53\\n13', 'Scrape It Off\\nPusha T Featuring Lil Uzi Vert & Don Toliver\\n-\\n59\\n1', 'About Damn Time\\nLizzo\\n50\\n50\\n2', 'Tomorrow Me\\nLuke Combs\\n-\\n61\\n1', 'Slow Down Summer\\nThomas Rhett\\n64\\n43\\n10', 'Never Wanted To Be That Girl\\nCarly Pearce & Ashley McBryde\\n66\\n63\\n16', 'Light Switch\\nCharlie Puth\\n52\\n27\\n14', '23\\nSam Hunt\\n58\\n50\\n18', 'Me Or Sum\\nNardo Wick, Lil Baby & Future\\n67\\n58\\n16', 'Broadway Girls\\nLil Durk Featuring Morgan Wallen\\n60\\n14\\n19', 'Flowers\\nLauren Spencer-Smith\\n55\\n55\\n2', 'No Love\\nSummer Walker & SZA\\n62\\n13\\n17', 'Flower Shops\\nERNEST Featuring Morgan Wallen\\n65\\n64\\n14', 'Nail Tech\\nJack Harlow\\n56\\n18\\n10', 'Give Heaven Some Hell\\nHARDY\\n69\\n69\\n9', 'Get Into It (Yuh)\\nDoja Cat\\n73\\n68\\n21', 'Take My Name\\nParmalee\\n75\\n74\\n4', 'Surface Pressure\\nJessica Darrow\\n63\\n8\\n18', 'Neck & Wrist\\nPusha T Featuring JAY-Z & Pharrell Williams\\n-\\n76\\n2', 'Handsomer\\nRuss Featuring Ktlyn\\n70\\n40\\n8', 'Rock N Roll\\nPusha T Featuring Kanye West & Kid Cudi\\n-\\n78\\n1', 'Ahhh Ha\\nLil Durk\\n68\\n18\\n10', 'Do We Have A Problem?\\nNicki Minaj X Lil Baby\\n72\\n2\\n12', 'Dreamin Of The Past\\nPusha T Featuring Kanye West\\n-\\n81\\n1', 'Circles Around This Town\\nMaren Morris\\n77\\n52\\n16', 'Damn Strait\\nScotty McCreery\\n76\\n76\\n4', 'Envolver\\nAnitta\\n71\\n70\\n5', 'Shake It\\nKay Flock, Cardi B, Dougie B & Bory300\\n51\\n51\\n2', 'I Love You So\\nThe Walters\\n81\\n71\\n15', 'Rumors\\nGucci Mane Featuring Lil Durk\\n74\\n51\\n13', 'She Likes It\\nRussell Dickerson & Jake Scott\\n89\\n86\\n6', 'In My Head\\nLil Tjay\\n78\\n33\\n4', 'Soy El Unico\\nYahritza y Su Esencia\\n80\\n20\\n5', 'Leave You Alone\\nKane Brown\\n86\\n86\\n2', 'Out Of Time\\nThe Weeknd\\n-\\n32\\n3', 'Banking On Me\\nGunna\\n88\\n61\\n10', 'Come Back As A Country Boy\\nBlake Shelton\\n82\\n81\\n13', 'Desesperados\\nRauw Alejandro & Chencho Corleone\\n91\\n91\\n4', 'Bones\\nImagine Dragons\\n87\\n87\\n7', 'Hate Our Love\\nQueen Naija & Big Sean\\n94\\n88\\n3', 'Over\\nLucky Daye\\n92\\n77\\n6', 'City Of Gods\\nFivio Foreign, Kanye West & Alicia Keys\\n84\\n46\\n10', 'Brambleton\\nPusha T\\n-\\n100\\n1', 'As It Was\\nHarry Styles\\n1\\n1\\n4', 'First Class\\nJack Harlow\\n2\\n1\\n3', 'Heat Waves\\nGlass Animals\\n3\\n1\\n67', 'Big Energy\\nLatto\\n4\\n3\\n27', 'Enemy\\nImagine Dragons X JID\\n5\\n5\\n23', 'Stay\\nThe Kid LAROI & Justin Bieber\\n6\\n1\\n42', 'Woman\\nDoja Cat\\n8\\n7\\n39', 'Ghost\\nJustin Bieber\\n10\\n5\\n31', 'Super Gremlin\\nKodak Black\\n9\\n3\\n25', 'Thats What I Want\\nLil Nas X\\n11\\n8\\n32', 'Bad Habits\\nEd Sheeran\\n12\\n2\\n44', 'Shivers\\nEd Sheeran\\n14\\n4\\n33', 'abcdefu\\nGAYLE\\n13\\n3\\n23', 'Cold Heart (PNAU Remix)\\nElton John & Dua Lipa\\n15\\n7\\n34', 'Thousand Miles\\nThe Kid LAROI\\n-\\n15\\n1', 'Save Your Tears\\nThe Weeknd & Ariana Grande\\n18\\n1\\n69', 'One Right Now\\nPost Malone & The Weeknd\\n19\\n6\\n25', 'Levitating\\nDua Lipa\\n21\\n2\\n77', 'Need To Know\\nDoja Cat\\n17\\n8\\n46', 'MAMIII\\nBecky G X Karol G\\n24\\n15\\n11', 'Bam Bam\\nCamila Cabello Featuring Ed Sheeran\\n25\\n21\\n8', 'Industry Baby\\nLil Nas X & Jack Harlow\\n23\\n1\\n40', \"'Til You Can't\\nCody Johnson\\n22\\n18\\n29\", 'Easy On Me\\nAdele\\n16\\n1\\n29', 'In A Minute\\nLil Baby\\n20\\n14\\n3', \"Doin' This\\nLuke Combs\\n30\\n26\\n20\", 'Wasted On You\\nMorgan Wallen\\n31\\n9\\n24', 'AA\\nWalker Hayes\\n32\\n28\\n16', 'Plan B\\nMegan Thee Stallion\\n-\\n29\\n1', 'Hrs And Hrs\\nMuni Long\\n26\\n16\\n18', 'Boyfriend\\nDove Cameron\\n37\\n31\\n11', 'Sweetest Pie\\nMegan Thee Stallion & Dua Lipa\\n34\\n15\\n7', 'Trouble With A Heartbreak\\nJason Aldean\\n59\\n33\\n6', 'Right On\\nLil Baby\\n28\\n13\\n3', 'Good 4 U\\nOlivia Rodrigo\\n33\\n1\\n50', 'Provenza\\nKarol G\\n-\\n36\\n1', 'Numb Little Bug\\nEm Beihold\\n40\\n37\\n13', 'To The Moon!\\nJNR CHOI & Sam Tompkins\\n38\\n38\\n9', 'I Hate U\\nSZA\\n36\\n7\\n21', \"We Don't Talk About Bruno\\nCarolina Gaitan, Mauro Castillo, Adassa, Rhenzy Feliz, Diane Guerrero, Stephanie Beatriz & Encanto Cast\\n27\\n1\\n18\", 'Never Say Never\\nCole Swindell / Lainey Wilson\\n29\\n27\\n15', \"Don't Think Jesus\\nMorgan Wallen\\n7\\n7\\n2\", 'You Right\\nDoja Cat & The Weeknd\\n39\\n11\\n43', 'Fingers Crossed\\nLauren Spencer-Smith\\n35\\n19\\n17', 'Fancy Like\\nWalker Hayes\\n41\\n3\\n45', 'Sand In My Boots\\nMorgan Wallen\\n42\\n30\\n41', \"She's All I Wanna Be\\nTate McRae\\n47\\n44\\n12\", 'The Motto\\nTiesto & Ava Max\\n46\\n42\\n13', 'What Happened To Virgil\\nLil Durk Featuring Gunna\\n43\\n22\\n7', \"When You're Gone\\nShawn Mendes\\n48\\n38\\n4\", '2step\\nEd Sheeran Featuring Lil Baby\\n-\\n51\\n1', 'Beers On Me\\nDierks Bentley, BRELAND & HARDY\\n45\\n40\\n18', 'Pushin P\\nGunna & Future Featuring Young Thug\\n44\\n7\\n16', 'Freaky Deaky\\nTyga X Doja Cat\\n57\\n43\\n9', 'Something In The Orange\\nZach Bryan\\n-\\n55\\n1', 'Peru\\nFireboy DML & Ed Sheeran\\n54\\n53\\n13', 'Hold That Heat\\nSouthside, Travis Scott & Future\\n-\\n57\\n1', 'If I Was A Cowboy\\nMiranda Lambert\\n53\\n53\\n13', 'Scrape It Off\\nPusha T Featuring Lil Uzi Vert & Don Toliver\\n-\\n59\\n1', 'About Damn Time\\nLizzo\\n50\\n50\\n2', 'Tomorrow Me\\nLuke Combs\\n-\\n61\\n1', 'Slow Down Summer\\nThomas Rhett\\n64\\n43\\n10', 'Never Wanted To Be That Girl\\nCarly Pearce & Ashley McBryde\\n66\\n63\\n16', 'Light Switch\\nCharlie Puth\\n52\\n27\\n14', '23\\nSam Hunt\\n58\\n50\\n18', 'Me Or Sum\\nNardo Wick, Lil Baby & Future\\n67\\n58\\n16', 'Broadway Girls\\nLil Durk Featuring Morgan Wallen\\n60\\n14\\n19', 'Flowers\\nLauren Spencer-Smith\\n55\\n55\\n2', 'No Love\\nSummer Walker & SZA\\n62\\n13\\n17', 'Flower Shops\\nERNEST Featuring Morgan Wallen\\n65\\n64\\n14', 'Nail Tech\\nJack Harlow\\n56\\n18\\n10', 'Give Heaven Some Hell\\nHARDY\\n69\\n69\\n9', 'Get Into It (Yuh)\\nDoja Cat\\n73\\n68\\n21', 'Take My Name\\nParmalee\\n75\\n74\\n4', 'Surface Pressure\\nJessica Darrow\\n63\\n8\\n18', 'Neck & Wrist\\nPusha T Featuring JAY-Z & Pharrell Williams\\n-\\n76\\n2', 'Handsomer\\nRuss Featuring Ktlyn\\n70\\n40\\n8', 'Rock N Roll\\nPusha T Featuring Kanye West & Kid Cudi\\n-\\n78\\n1', 'Ahhh Ha\\nLil Durk\\n68\\n18\\n10', 'Do We Have A Problem?\\nNicki Minaj X Lil Baby\\n72\\n2\\n12', 'Dreamin Of The Past\\nPusha T Featuring Kanye West\\n-\\n81\\n1', 'Circles Around This Town\\nMaren Morris\\n77\\n52\\n16', 'Damn Strait\\nScotty McCreery\\n76\\n76\\n4', 'Envolver\\nAnitta\\n71\\n70\\n5', 'Shake It\\nKay Flock, Cardi B, Dougie B & Bory300\\n51\\n51\\n2', 'I Love You So\\nThe Walters\\n81\\n71\\n15', 'Rumors\\nGucci Mane Featuring Lil Durk\\n74\\n51\\n13', 'She Likes It\\nRussell Dickerson & Jake Scott\\n89\\n86\\n6', 'In My Head\\nLil Tjay\\n78\\n33\\n4', 'Soy El Unico\\nYahritza y Su Esencia\\n80\\n20\\n5', 'Leave You Alone\\nKane Brown\\n86\\n86\\n2', 'Out Of Time\\nThe Weeknd\\n-\\n32\\n3', 'Banking On Me\\nGunna\\n88\\n61\\n10', 'Come Back As A Country Boy\\nBlake Shelton\\n82\\n81\\n13', 'Desesperados\\nRauw Alejandro & Chencho Corleone\\n91\\n91\\n4', 'Bones\\nImagine Dragons\\n87\\n87\\n7', 'Hate Our Love\\nQueen Naija & Big Sean\\n94\\n88\\n3', 'Over\\nLucky Daye\\n92\\n77\\n6', 'City Of Gods\\nFivio Foreign, Kanye West & Alicia Keys\\n84\\n46\\n10', 'Brambleton\\nPusha T\\n-\\n100\\n1']\n"
     ]
    },
    {
     "data": {
      "text/plain": [
       "202"
      ]
     },
     "execution_count": 16,
     "metadata": {},
     "output_type": "execute_result"
    }
   ],
   "source": [
    "print(Artist_name)\n",
    "len(Artist_name)"
   ]
  },
  {
   "cell_type": "code",
   "execution_count": 21,
   "id": "1708eb86",
   "metadata": {},
   "outputs": [
    {
     "name": "stderr",
     "output_type": "stream",
     "text": [
      "C:\\Users\\Swetha\\AppData\\Local\\Temp/ipykernel_17672/3722521073.py:2: DeprecationWarning: find_elements_by_xpath is deprecated. Please use find_elements(by=By.XPATH, value=xpath) instead\n",
      "  for i in driver.find_elements_by_xpath('//li[@class=\"o-chart-results-list__item // a-chart-color u-width-72 u-width-55@mobile-max u-width-55@tablet-only lrv-u-flex lrv-u-flex-shrink-0 lrv-u-align-items-center lrv-u-justify-content-center lrv-u-border-b-1 u-border-b-0@mobile-max lrv-u-border-color-grey-light u-background-color-white-064@mobile-max u-hidden@mobile-max\"]'):\n"
     ]
    }
   ],
   "source": [
    "try:\n",
    "    for i in driver.find_elements_by_xpath('//li[@class=\"o-chart-results-list__item // a-chart-color u-width-72 u-width-55@mobile-max u-width-55@tablet-only lrv-u-flex lrv-u-flex-shrink-0 lrv-u-align-items-center lrv-u-justify-content-center lrv-u-border-b-1 u-border-b-0@mobile-max lrv-u-border-color-grey-light u-background-color-white-064@mobile-max u-hidden@mobile-max\"]'):\n",
    "        Last_week_rank.append(i.text)\n",
    "except NoSuchElementException:\n",
    "    Last_week_rank.append('not known')"
   ]
  },
  {
   "cell_type": "code",
   "execution_count": 22,
   "id": "e93febc1",
   "metadata": {},
   "outputs": [
    {
     "name": "stdout",
     "output_type": "stream",
     "text": [
      "['1', '1', '4', '2', '3', '3', '67', '4', '27', '5', '23', '6', '42', '8', '39', '10', '31', '9', '25', '11', '32', '12', '44', '14', '33', '13', '23', '15', '34', '-', '1', '18', '69', '19', '25', '21', '77', '17', '46', '24', '11', '25', '8', '23', '40', '22', '29', '16', '29', '20', '3', '30', '20', '31', '24', '32', '16', '-', '1', '26', '18', '37', '11', '34', '7', '59', '6', '28', '3', '33', '50', '-', '1', '40', '13', '38', '9', '36', '21', '27', '18', '29', '15', '7', '2', '39', '43', '35', '17', '41', '45', '42', '41', '47', '12', '46', '13', '43', '7', '48', '4', '-', '1', '45', '18', '44', '16', '57', '9', '-', '1', '54', '13', '-', '1', '53', '13', '-', '1', '50', '2', '-', '1', '64', '10', '66', '16', '52', '14', '58', '18', '67', '16', '60', '19', '55', '2', '62', '17', '65', '14', '56', '10', '69', '9', '73', '21', '75', '4', '63', '18', '-', '2', '70', '8', '-', '1', '68', '10', '72', '12', '-', '1', '77', '16', '76', '4', '71', '5', '51', '2', '81', '15', '74', '13', '89', '6', '78', '4', '80', '5', '86', '2', '-', '3', '88', '10', '82', '13', '91', '4', '87', '7', '94', '3', '92', '6', '84', '10', '-', '1']\n"
     ]
    },
    {
     "data": {
      "text/plain": [
       "201"
      ]
     },
     "execution_count": 22,
     "metadata": {},
     "output_type": "execute_result"
    }
   ],
   "source": [
    "print(Last_week_rank)\n",
    "len(Last_week_rank)"
   ]
  },
  {
   "cell_type": "code",
   "execution_count": 25,
   "id": "e20ce14c",
   "metadata": {},
   "outputs": [
    {
     "name": "stderr",
     "output_type": "stream",
     "text": [
      "C:\\Users\\Swetha\\AppData\\Local\\Temp/ipykernel_17672/4107016190.py:2: DeprecationWarning: find_elements_by_xpath is deprecated. Please use find_elements(by=By.XPATH, value=xpath) instead\n",
      "  for i in driver.find_elements_by_xpath('//li[@class=\"o-chart-results-list__item // a-chart-bg-color a-chart-color u-width-72 u-width-55@mobile-max u-width-55@tablet-only lrv-u-flex lrv-u-flex-shrink-0 lrv-u-align-items-center lrv-u-justify-content-center lrv-u-background-color-grey-lightest lrv-u-border-b-1 u-border-b-0@mobile-max lrv-u-border-color-grey-light u-hidden@mobile-max\"]'):\n"
     ]
    }
   ],
   "source": [
    "try:\n",
    "    for i in driver.find_elements_by_xpath('//li[@class=\"o-chart-results-list__item // a-chart-bg-color a-chart-color u-width-72 u-width-55@mobile-max u-width-55@tablet-only lrv-u-flex lrv-u-flex-shrink-0 lrv-u-align-items-center lrv-u-justify-content-center lrv-u-background-color-grey-lightest lrv-u-border-b-1 u-border-b-0@mobile-max lrv-u-border-color-grey-light u-hidden@mobile-max\"]'):\n",
    "        peak_rank.append(i.text)\n",
    "except NoSuchElementException:\n",
    "    peak_rank.append('not known')"
   ]
  },
  {
   "cell_type": "code",
   "execution_count": 26,
   "id": "7568ccb2",
   "metadata": {},
   "outputs": [
    {
     "name": "stdout",
     "output_type": "stream",
     "text": [
      "['1', '1', '4', '', '', '', '', '1', '', '1', '', '1', '', '3', '', '5', '', '1', '', '7', '', '5', '', '3', '', '8', '', '2', '', '4', '', '3', '', '7', '', '15', '', '1', '', '6', '', '2', '', '8', '', '15', '', '21', '', '1', '', '18', '', '1', '', '14', '', '26', '', '9', '', '28', '', '29', '', '16', '', '31', '', '15', '', '33', '', '13', '', '1', '', '36', '', '37', '', '38', '', '7', '', '1', '', '27', '', '7', '', '11', '', '19', '', '3', '', '30', '', '44', '', '42', '', '22', '', '38', '', '51', '', '40', '', '7', '', '43', '', '55', '', '53', '', '57', '', '53', '', '59', '', '50', '', '61', '', '43', '', '63', '', '27', '', '50', '', '58', '', '14', '', '55', '', '13', '', '64', '', '18', '', '69', '', '68', '', '74', '', '8', '', '76', '', '40', '', '78', '', '18', '', '2', '', '81', '', '52', '', '76', '', '70', '', '51', '', '71', '', '51', '', '86', '', '33', '', '20', '', '86', '', '32', '', '61', '', '81', '', '91', '', '87', '', '88', '', '77', '', '46', '', '100']\n"
     ]
    },
    {
     "data": {
      "text/plain": [
       "206"
      ]
     },
     "execution_count": 26,
     "metadata": {},
     "output_type": "execute_result"
    }
   ],
   "source": [
    "print(peak_rank)\n",
    "len(peak_rank)"
   ]
  },
  {
   "cell_type": "code",
   "execution_count": 29,
   "id": "beadaa27",
   "metadata": {},
   "outputs": [
    {
     "name": "stderr",
     "output_type": "stream",
     "text": [
      "C:\\Users\\Swetha\\AppData\\Local\\Temp/ipykernel_17672/3394585586.py:2: DeprecationWarning: find_elements_by_xpath is deprecated. Please use find_elements(by=By.XPATH, value=xpath) instead\n",
      "  for i in driver.find_elements_by_xpath('//li[@class=\"o-chart-results-list__item // a-chart-color u-width-72 u-width-55@mobile-max u-width-55@tablet-only lrv-u-flex lrv-u-flex-shrink-0 lrv-u-align-items-center lrv-u-justify-content-center lrv-u-border-b-1 u-border-b-0@mobile-max lrv-u-border-color-grey-light u-background-color-white-064@mobile-max u-hidden@mobile-max\"]'):\n"
     ]
    }
   ],
   "source": [
    "try:\n",
    "    for i in driver.find_elements_by_xpath('//li[@class=\"o-chart-results-list__item // a-chart-color u-width-72 u-width-55@mobile-max u-width-55@tablet-only lrv-u-flex lrv-u-flex-shrink-0 lrv-u-align-items-center lrv-u-justify-content-center lrv-u-border-b-1 u-border-b-0@mobile-max lrv-u-border-color-grey-light u-background-color-white-064@mobile-max u-hidden@mobile-max\"]'):\n",
    "        weeks_on_board.append(i.text)\n",
    "except NoSuchElementException:\n",
    "    weeks_on_board.append('not known')"
   ]
  },
  {
   "cell_type": "code",
   "execution_count": 30,
   "id": "40767c05",
   "metadata": {},
   "outputs": [
    {
     "name": "stdout",
     "output_type": "stream",
     "text": [
      "['not known', '1', '4', '2', '3', '3', '67', '4', '27', '5', '23', '6', '42', '8', '39', '10', '31', '9', '25', '11', '32', '12', '44', '14', '33', '13', '23', '15', '34', '-', '1', '18', '69', '19', '25', '21', '77', '17', '46', '24', '11', '25', '8', '23', '40', '22', '29', '16', '29', '20', '3', '30', '20', '31', '24', '32', '16', '-', '1', '26', '18', '37', '11', '34', '7', '59', '6', '28', '3', '33', '50', '-', '1', '40', '13', '38', '9', '36', '21', '27', '18', '29', '15', '7', '2', '39', '43', '35', '17', '41', '45', '42', '41', '47', '12', '46', '13', '43', '7', '48', '4', '-', '1', '45', '18', '44', '16', '57', '9', '-', '1', '54', '13', '-', '1', '53', '13', '-', '1', '50', '2', '-', '1', '64', '10', '66', '16', '52', '14', '58', '18', '67', '16', '60', '19', '55', '2', '62', '17', '65', '14', '56', '10', '69', '9', '73', '21', '75', '4', '63', '18', '-', '2', '70', '8', '-', '1', '68', '10', '72', '12', '-', '1', '77', '16', '76', '4', '71', '5', '51', '2', '81', '15', '74', '13', '89', '6', '78', '4', '80', '5', '86', '2', '-', '3', '88', '10', '82', '13', '91', '4', '87', '7', '94', '3', '92', '6', '84', '10', '-', '1']\n"
     ]
    },
    {
     "data": {
      "text/plain": [
       "201"
      ]
     },
     "execution_count": 30,
     "metadata": {},
     "output_type": "execute_result"
    }
   ],
   "source": [
    "print(weeks_on_board)\n",
    "len(weeks_on_board)"
   ]
  },
  {
   "cell_type": "code",
   "execution_count": 31,
   "id": "01a77b30",
   "metadata": {},
   "outputs": [
    {
     "data": {
      "text/html": [
       "<div>\n",
       "<style scoped>\n",
       "    .dataframe tbody tr th:only-of-type {\n",
       "        vertical-align: middle;\n",
       "    }\n",
       "\n",
       "    .dataframe tbody tr th {\n",
       "        vertical-align: top;\n",
       "    }\n",
       "\n",
       "    .dataframe thead th {\n",
       "        text-align: right;\n",
       "    }\n",
       "</style>\n",
       "<table border=\"1\" class=\"dataframe\">\n",
       "  <thead>\n",
       "    <tr style=\"text-align: right;\">\n",
       "      <th></th>\n",
       "      <th>Song_name</th>\n",
       "      <th>Artist_name</th>\n",
       "      <th>Last_week_rank</th>\n",
       "      <th>peak_rank</th>\n",
       "      <th>weeks_on_board</th>\n",
       "    </tr>\n",
       "  </thead>\n",
       "  <tbody>\n",
       "    <tr>\n",
       "      <th>0</th>\n",
       "      <td>As It Was\\nHarry Styles\\n1\\n1\\n4</td>\n",
       "      <td>Harry Styles</td>\n",
       "      <td>1</td>\n",
       "      <td>1</td>\n",
       "      <td>not known</td>\n",
       "    </tr>\n",
       "    <tr>\n",
       "      <th>1</th>\n",
       "      <td>First Class\\nJack Harlow\\n2\\n1\\n3</td>\n",
       "      <td>Harry Styles</td>\n",
       "      <td>1</td>\n",
       "      <td>1</td>\n",
       "      <td>1</td>\n",
       "    </tr>\n",
       "    <tr>\n",
       "      <th>2</th>\n",
       "      <td>Heat Waves\\nGlass Animals\\n3\\n1\\n67</td>\n",
       "      <td>As It Was\\nHarry Styles\\n1\\n1\\n4</td>\n",
       "      <td>4</td>\n",
       "      <td>4</td>\n",
       "      <td>4</td>\n",
       "    </tr>\n",
       "    <tr>\n",
       "      <th>3</th>\n",
       "      <td>Big Energy\\nLatto\\n4\\n3\\n27</td>\n",
       "      <td>First Class\\nJack Harlow\\n2\\n1\\n3</td>\n",
       "      <td>2</td>\n",
       "      <td></td>\n",
       "      <td>2</td>\n",
       "    </tr>\n",
       "    <tr>\n",
       "      <th>4</th>\n",
       "      <td>Enemy\\nImagine Dragons X JID\\n5\\n5\\n23</td>\n",
       "      <td>Heat Waves\\nGlass Animals\\n3\\n1\\n67</td>\n",
       "      <td>3</td>\n",
       "      <td></td>\n",
       "      <td>3</td>\n",
       "    </tr>\n",
       "  </tbody>\n",
       "</table>\n",
       "</div>"
      ],
      "text/plain": [
       "                                Song_name  \\\n",
       "0        As It Was\\nHarry Styles\\n1\\n1\\n4   \n",
       "1       First Class\\nJack Harlow\\n2\\n1\\n3   \n",
       "2     Heat Waves\\nGlass Animals\\n3\\n1\\n67   \n",
       "3             Big Energy\\nLatto\\n4\\n3\\n27   \n",
       "4  Enemy\\nImagine Dragons X JID\\n5\\n5\\n23   \n",
       "\n",
       "                           Artist_name Last_week_rank peak_rank weeks_on_board  \n",
       "0                         Harry Styles              1         1      not known  \n",
       "1                         Harry Styles              1         1              1  \n",
       "2     As It Was\\nHarry Styles\\n1\\n1\\n4              4         4              4  \n",
       "3    First Class\\nJack Harlow\\n2\\n1\\n3              2                        2  \n",
       "4  Heat Waves\\nGlass Animals\\n3\\n1\\n67              3                        3  "
      ]
     },
     "execution_count": 31,
     "metadata": {},
     "output_type": "execute_result"
    }
   ],
   "source": [
    "df=pd.DataFrame()\n",
    "df['Song_name']=Song_name[0:100]\n",
    "df['Artist_name']=Artist_name[0:100]\n",
    "df['Last_week_rank']=Last_week_rank[0:100]\n",
    "df['peak_rank']=peak_rank[0:100]\n",
    "df['weeks_on_board']=weeks_on_board[0:100]\n",
    "df.head()"
   ]
  },
  {
   "cell_type": "code",
   "execution_count": 32,
   "id": "baec5a2e",
   "metadata": {},
   "outputs": [],
   "source": [
    "driver.close()"
   ]
  },
  {
   "cell_type": "code",
   "execution_count": null,
   "id": "c682e478",
   "metadata": {},
   "outputs": [],
   "source": []
  },
  {
   "cell_type": "markdown",
   "id": "5fac50e7",
   "metadata": {},
   "source": [
    "Question 7:\n",
    "\n",
    "Scrape the details of Data science recruiters from naukri.com.\n",
    "\n",
    "Url = https://www.naukri.com/\n",
    "    \n",
    "You have to find the following details:\n",
    "    \n",
    "A) Name\n",
    "\n",
    "B) Designation\n",
    "\n",
    "C) Company\n",
    "\n",
    "D) Skills they hire for\n",
    "\n",
    "E) Location\n",
    "\n",
    "Note: - From naukri.com homepage click on the recruiters option and on the search panel type Data science and\n",
    "click on search. All this should be done through code"
   ]
  },
  {
   "cell_type": "code",
   "execution_count": 8,
   "id": "4ae41b1c",
   "metadata": {},
   "outputs": [
    {
     "name": "stdout",
     "output_type": "stream",
     "text": [
      "Collecting webdriver-manager\n",
      "  Downloading webdriver_manager-3.5.4-py2.py3-none-any.whl (18 kB)\n",
      "Requirement already satisfied: requests in c:\\programdata\\anaconda3\\lib\\site-packages (from webdriver-manager) (2.26.0)\n",
      "Requirement already satisfied: idna<4,>=2.5 in c:\\programdata\\anaconda3\\lib\\site-packages (from requests->webdriver-manager) (3.2)\n",
      "Requirement already satisfied: urllib3<1.27,>=1.21.1 in c:\\programdata\\anaconda3\\lib\\site-packages (from requests->webdriver-manager) (1.26.7)\n",
      "Requirement already satisfied: charset-normalizer~=2.0.0 in c:\\programdata\\anaconda3\\lib\\site-packages (from requests->webdriver-manager) (2.0.4)\n",
      "Requirement already satisfied: certifi>=2017.4.17 in c:\\programdata\\anaconda3\\lib\\site-packages (from requests->webdriver-manager) (2021.10.8)\n",
      "Installing collected packages: webdriver-manager\n",
      "Successfully installed webdriver-manager-3.5.4\n"
     ]
    },
    {
     "name": "stderr",
     "output_type": "stream",
     "text": [
      "WARNING: Ignoring invalid distribution -ikit-learn (c:\\programdata\\anaconda3\\lib\\site-packages)\n",
      "WARNING: Ignoring invalid distribution -1ikit-learn (c:\\programdata\\anaconda3\\lib\\site-packages)\n",
      "WARNING: Ignoring invalid distribution -ikit-learn (c:\\programdata\\anaconda3\\lib\\site-packages)\n",
      "WARNING: Ignoring invalid distribution -0ikit-learn (c:\\programdata\\anaconda3\\lib\\site-packages)\n",
      "WARNING: Ignoring invalid distribution - (c:\\programdata\\anaconda3\\lib\\site-packages)\n",
      "WARNING: Ignoring invalid distribution -cikit-learn (c:\\programdata\\anaconda3\\lib\\site-packages)\n",
      "WARNING: Ignoring invalid distribution -ikit-learn (c:\\programdata\\anaconda3\\lib\\site-packages)\n",
      "WARNING: Ignoring invalid distribution -1ikit-learn (c:\\programdata\\anaconda3\\lib\\site-packages)\n",
      "WARNING: Ignoring invalid distribution -ikit-learn (c:\\programdata\\anaconda3\\lib\\site-packages)\n",
      "WARNING: Ignoring invalid distribution -0ikit-learn (c:\\programdata\\anaconda3\\lib\\site-packages)\n",
      "WARNING: Ignoring invalid distribution - (c:\\programdata\\anaconda3\\lib\\site-packages)\n",
      "WARNING: Ignoring invalid distribution -cikit-learn (c:\\programdata\\anaconda3\\lib\\site-packages)\n",
      "WARNING: Ignoring invalid distribution -ikit-learn (c:\\programdata\\anaconda3\\lib\\site-packages)\n",
      "WARNING: Ignoring invalid distribution -1ikit-learn (c:\\programdata\\anaconda3\\lib\\site-packages)\n",
      "WARNING: Ignoring invalid distribution -ikit-learn (c:\\programdata\\anaconda3\\lib\\site-packages)\n",
      "WARNING: Ignoring invalid distribution -0ikit-learn (c:\\programdata\\anaconda3\\lib\\site-packages)\n",
      "WARNING: Ignoring invalid distribution - (c:\\programdata\\anaconda3\\lib\\site-packages)\n",
      "WARNING: Ignoring invalid distribution -cikit-learn (c:\\programdata\\anaconda3\\lib\\site-packages)\n",
      "WARNING: Ignoring invalid distribution -ikit-learn (c:\\programdata\\anaconda3\\lib\\site-packages)\n",
      "WARNING: Ignoring invalid distribution -1ikit-learn (c:\\programdata\\anaconda3\\lib\\site-packages)\n",
      "WARNING: Ignoring invalid distribution -ikit-learn (c:\\programdata\\anaconda3\\lib\\site-packages)\n",
      "WARNING: Ignoring invalid distribution -0ikit-learn (c:\\programdata\\anaconda3\\lib\\site-packages)\n",
      "WARNING: Ignoring invalid distribution - (c:\\programdata\\anaconda3\\lib\\site-packages)\n",
      "WARNING: Ignoring invalid distribution -cikit-learn (c:\\programdata\\anaconda3\\lib\\site-packages)\n",
      "WARNING: Ignoring invalid distribution -ikit-learn (c:\\programdata\\anaconda3\\lib\\site-packages)\n",
      "WARNING: Ignoring invalid distribution -1ikit-learn (c:\\programdata\\anaconda3\\lib\\site-packages)\n",
      "WARNING: Ignoring invalid distribution -ikit-learn (c:\\programdata\\anaconda3\\lib\\site-packages)\n",
      "WARNING: Ignoring invalid distribution -0ikit-learn (c:\\programdata\\anaconda3\\lib\\site-packages)\n",
      "WARNING: Ignoring invalid distribution - (c:\\programdata\\anaconda3\\lib\\site-packages)\n",
      "WARNING: Ignoring invalid distribution -cikit-learn (c:\\programdata\\anaconda3\\lib\\site-packages)\n",
      "WARNING: Ignoring invalid distribution -ikit-learn (c:\\programdata\\anaconda3\\lib\\site-packages)\n",
      "WARNING: Ignoring invalid distribution -1ikit-learn (c:\\programdata\\anaconda3\\lib\\site-packages)\n",
      "WARNING: Ignoring invalid distribution -ikit-learn (c:\\programdata\\anaconda3\\lib\\site-packages)\n",
      "WARNING: Ignoring invalid distribution -0ikit-learn (c:\\programdata\\anaconda3\\lib\\site-packages)\n",
      "WARNING: Ignoring invalid distribution - (c:\\programdata\\anaconda3\\lib\\site-packages)\n",
      "WARNING: Ignoring invalid distribution -cikit-learn (c:\\programdata\\anaconda3\\lib\\site-packages)\n",
      "WARNING: Ignoring invalid distribution -ikit-learn (c:\\programdata\\anaconda3\\lib\\site-packages)\n",
      "WARNING: Ignoring invalid distribution -1ikit-learn (c:\\programdata\\anaconda3\\lib\\site-packages)\n",
      "WARNING: Ignoring invalid distribution -ikit-learn (c:\\programdata\\anaconda3\\lib\\site-packages)\n",
      "WARNING: Ignoring invalid distribution -0ikit-learn (c:\\programdata\\anaconda3\\lib\\site-packages)\n",
      "WARNING: Ignoring invalid distribution - (c:\\programdata\\anaconda3\\lib\\site-packages)\n",
      "WARNING: Ignoring invalid distribution -cikit-learn (c:\\programdata\\anaconda3\\lib\\site-packages)\n"
     ]
    }
   ],
   "source": [
    "!pip3 install webdriver-manager"
   ]
  },
  {
   "cell_type": "code",
   "execution_count": 43,
   "id": "6742ac9a",
   "metadata": {},
   "outputs": [],
   "source": [
    "import pandas as pd\n",
    "import selenium\n",
    "import warnings\n",
    "from selenium import webdriver\n",
    "from selenium.common.exceptions import NoSuchElementException\n",
    "from selenium.common.exceptions import SessionNotCreatedException"
   ]
  },
  {
   "cell_type": "code",
   "execution_count": 44,
   "id": "451c20a0",
   "metadata": {},
   "outputs": [
    {
     "name": "stderr",
     "output_type": "stream",
     "text": [
      "\n",
      "\n",
      "====== WebDriver manager ======\n",
      "Current google-chrome version is 101.0.4951\n",
      "Get LATEST chromedriver version for 101.0.4951 google-chrome\n",
      "Trying to download new driver from https://chromedriver.storage.googleapis.com/101.0.4951.41/chromedriver_win32.zip\n",
      "Driver has been saved in cache [C:\\Users\\Swetha\\.wdm\\drivers\\chromedriver\\win32\\101.0.4951.41]\n"
     ]
    }
   ],
   "source": [
    "from selenium import webdriver\n",
    "from selenium.webdriver.chrome.service import Service\n",
    "from webdriver_manager.chrome import ChromeDriverManager\n",
    "\n",
    "driver = webdriver.Chrome(service=Service(ChromeDriverManager().install()))\n",
    "\n",
    "url='https://www.naukri.com/'\n",
    "driver.get(url)"
   ]
  },
  {
   "cell_type": "code",
   "execution_count": 45,
   "id": "958d024c",
   "metadata": {},
   "outputs": [
    {
     "name": "stderr",
     "output_type": "stream",
     "text": [
      "C:\\Users\\Swetha\\AppData\\Local\\Temp/ipykernel_9868/3582474504.py:1: DeprecationWarning: find_element_by_xpath is deprecated. Please use find_element(by=By.XPATH, value=xpath) instead\n",
      "  search_tag=driver.find_element_by_xpath('//input[@class=\"suggestor-input \"]')\n"
     ]
    },
    {
     "data": {
      "text/plain": [
       "<selenium.webdriver.remote.webelement.WebElement (session=\"3d2df74e8cd1a957ae2a99495b47c42b\", element=\"da54efc9-5ab4-4b77-8e47-d2f9b0b550ac\")>"
      ]
     },
     "execution_count": 45,
     "metadata": {},
     "output_type": "execute_result"
    }
   ],
   "source": [
    "search_tag=driver.find_element_by_xpath('//input[@class=\"suggestor-input \"]')\n",
    "search_tag"
   ]
  },
  {
   "cell_type": "code",
   "execution_count": 46,
   "id": "f3f62fd7",
   "metadata": {},
   "outputs": [
    {
     "name": "stderr",
     "output_type": "stream",
     "text": [
      "C:\\Users\\Swetha\\AppData\\Local\\Temp/ipykernel_9868/3281433869.py:1: DeprecationWarning: find_element_by_xpath is deprecated. Please use find_element(by=By.XPATH, value=xpath) instead\n",
      "  search_button=driver.find_element_by_xpath('//div[@class=\"qsbSubmit\"]')\n"
     ]
    },
    {
     "data": {
      "text/plain": [
       "<selenium.webdriver.remote.webelement.WebElement (session=\"3d2df74e8cd1a957ae2a99495b47c42b\", element=\"209e8c99-16ea-422b-ad98-60ca2db00e4b\")>"
      ]
     },
     "execution_count": 46,
     "metadata": {},
     "output_type": "execute_result"
    }
   ],
   "source": [
    "search_button=driver.find_element_by_xpath('//div[@class=\"qsbSubmit\"]')\n",
    "search_button"
   ]
  },
  {
   "cell_type": "code",
   "execution_count": 52,
   "id": "7d506534",
   "metadata": {},
   "outputs": [
    {
     "name": "stderr",
     "output_type": "stream",
     "text": [
      "C:\\Users\\Swetha\\AppData\\Local\\Temp/ipykernel_9868/1418129230.py:7: DeprecationWarning: find_elements_by_xpath is deprecated. Please use find_elements(by=By.XPATH, value=xpath) instead\n",
      "  for i in driver.find_elements_by_xpath('//span[@class=\"fl ellipsis\"]'):\n",
      "C:\\Users\\Swetha\\AppData\\Local\\Temp/ipykernel_9868/1418129230.py:12: DeprecationWarning: find_elements_by_xpath is deprecated. Please use find_elements(by=By.XPATH, value=xpath) instead\n",
      "  for i in driver.find_elements_by_xpath('//span[@class=\"ellipsis clr\"]'):\n",
      "C:\\Users\\Swetha\\AppData\\Local\\Temp/ipykernel_9868/1418129230.py:17: DeprecationWarning: find_elements_by_xpath is deprecated. Please use find_elements(by=By.XPATH, value=xpath) instead\n",
      "  for i in driver.find_elements_by_xpath('//*[@id=\"tabP-1\"]/div/div/div/div/p/a[2]'):\n",
      "C:\\Users\\Swetha\\AppData\\Local\\Temp/ipykernel_9868/1418129230.py:22: DeprecationWarning: find_elements_by_xpath is deprecated. Please use find_elements(by=By.XPATH, value=xpath) instead\n",
      "  for i in driver.find_elements_by_xpath('//div[@class=\"hireSec highlightable\"]'):\n",
      "C:\\Users\\Swetha\\AppData\\Local\\Temp/ipykernel_9868/1418129230.py:27: DeprecationWarning: find_elements_by_xpath is deprecated. Please use find_elements(by=By.XPATH, value=xpath) instead\n",
      "  for i in driver.find_elements_by_xpath('//*[@id=\"tabP-1\"]/div/div/div/div/p/span[2]/small'):\n"
     ]
    },
    {
     "data": {
      "text/html": [
       "<div>\n",
       "<style scoped>\n",
       "    .dataframe tbody tr th:only-of-type {\n",
       "        vertical-align: middle;\n",
       "    }\n",
       "\n",
       "    .dataframe tbody tr th {\n",
       "        vertical-align: top;\n",
       "    }\n",
       "\n",
       "    .dataframe thead th {\n",
       "        text-align: right;\n",
       "    }\n",
       "</style>\n",
       "<table border=\"1\" class=\"dataframe\">\n",
       "  <thead>\n",
       "    <tr style=\"text-align: right;\">\n",
       "      <th></th>\n",
       "      <th>Name</th>\n",
       "      <th>Designation</th>\n",
       "      <th>Company</th>\n",
       "      <th>skills</th>\n",
       "      <th>location</th>\n",
       "    </tr>\n",
       "  </thead>\n",
       "  <tbody>\n",
       "    <tr>\n",
       "      <th>0</th>\n",
       "      <td>NaN</td>\n",
       "      <td>NaN</td>\n",
       "      <td>NaN</td>\n",
       "      <td>NaN</td>\n",
       "      <td>unknown</td>\n",
       "    </tr>\n",
       "    <tr>\n",
       "      <th>1</th>\n",
       "      <td>NaN</td>\n",
       "      <td>NaN</td>\n",
       "      <td>NaN</td>\n",
       "      <td>NaN</td>\n",
       "      <td>unknown</td>\n",
       "    </tr>\n",
       "  </tbody>\n",
       "</table>\n",
       "</div>"
      ],
      "text/plain": [
       "   Name  Designation  Company  skills location\n",
       "0   NaN          NaN      NaN     NaN  unknown\n",
       "1   NaN          NaN      NaN     NaN  unknown"
      ]
     },
     "execution_count": 52,
     "metadata": {},
     "output_type": "execute_result"
    }
   ],
   "source": [
    "Name=[]\n",
    "Designation=[]\n",
    "Company=[]\n",
    "Skills=[]\n",
    "location=[]\n",
    "try:\n",
    "    for i in driver.find_elements_by_xpath('//span[@class=\"fl ellipsis\"]'):\n",
    "        Name.append(i.text)\n",
    "except NoSuchElementException:\n",
    "    Name.append('Unknown')\n",
    "try:\n",
    "    for i in driver.find_elements_by_xpath('//span[@class=\"ellipsis clr\"]'):\n",
    "        Designation.append(i.text)\n",
    "except NoSuchElementException:\n",
    "    Designation.append('Unknown')\n",
    "try:\n",
    "    for i in driver.find_elements_by_xpath('//*[@id=\"tabP-1\"]/div/div/div/div/p/a[2]'):\n",
    "        Company.append(i.text)\n",
    "except NoSuchElementException:\n",
    "    Company.append('Unknown')\n",
    "try:\n",
    "    for i in driver.find_elements_by_xpath('//div[@class=\"hireSec highlightable\"]'):\n",
    "        Skills.append(i.text)\n",
    "except NoSuchElementException:\n",
    "    Skills.append('Unknown')\n",
    "try:\n",
    "    for i in driver.find_elements_by_xpath('//*[@id=\"tabP-1\"]/div/div/div/div/p/span[2]/small'):\n",
    "        location.append(i.text)\n",
    "except NoSuchElementException:\n",
    "    location.append('Unknown')\n",
    "location.insert(47,'unknown')\n",
    "location.insert(26,'unknown')\n",
    "df=pd.DataFrame()\n",
    "df['Name']=Name\n",
    "df['Designation']=Designation\n",
    "df['Company']=Company\n",
    "df['skills']=Skills\n",
    "df['location']=location\n",
    "df.head()"
   ]
  },
  {
   "cell_type": "code",
   "execution_count": null,
   "id": "3de83388",
   "metadata": {},
   "outputs": [],
   "source": []
  },
  {
   "cell_type": "markdown",
   "id": "1bbaef21",
   "metadata": {},
   "source": [
    "Question 8:\n",
    "\n",
    "Scrape the details of Highest selling novels.\n",
    "\n",
    "Url = https://www.theguardian.com/news/datablog/2012/aug/09/best-selling-books-all-time-fifty-shades-greycompare/\n",
    "\n",
    "You have to find the following details:\n",
    "\n",
    "A) Book name\n",
    "\n",
    "B) Author name\n",
    "\n",
    "C) Volumes sold\n",
    "\n",
    "D) Publisher\n",
    "\n",
    "E) Genre"
   ]
  },
  {
   "cell_type": "markdown",
   "id": "24825f30",
   "metadata": {},
   "source": [
    "#this url is expired"
   ]
  },
  {
   "cell_type": "code",
   "execution_count": null,
   "id": "b1719da8",
   "metadata": {},
   "outputs": [],
   "source": [
    "import pandas as pd\n",
    "import selenium\n",
    "import warnings\n",
    "from selenium import webdriver\n",
    "from selenium.common.exceptions import NoSuchElementException\n",
    "\n",
    "driver=webdriver.Chrome(r'C:\\Users\\Swetha\\Downloads\\chromedriver_win32\\chromedriver.exe')\n",
    "\n",
    "url='https://www.theguardian.com/books'\n",
    "\n",
    "driver.get(url)"
   ]
  },
  {
   "cell_type": "code",
   "execution_count": null,
   "id": "d2dc1bf2",
   "metadata": {},
   "outputs": [],
   "source": [
    "Book_name=[]\n",
    "Author_name=[]\n",
    "Volumes_sold=[]\n",
    "Publisher=[]\n",
    "Genre=[]\n",
    "try:\n",
    "    for i in driver.find_elements_by_xpath('//td[@class=\"left\"]'):\n",
    "        Book_name.append(i.text)\n",
    "except NoSuchElementException:\n",
    "    Book_name.append('Unknown')\n",
    "Book_name1=[]\n",
    "for i in range(1,500,5):\n",
    "    Book_name1.append(Book_name[i])\n",
    "for i in range(2,500,5):\n",
    "    Author_name.append(Book_name[i])\n",
    "for i in range(3,500,5):\n",
    "    Volumes_sold.append(Book_name[i])\n",
    "for i in range(3,500,5):\n",
    "    Publisher.append(Book_name[i])\n",
    "try:\n",
    "    for i in driver.find_elements_by_xpath('//td[@class=\"last left\"]'):\n",
    "        Genre.append(i.text)\n",
    "except NoSuchElementException:\n",
    "    Genre.append('Unknown')\n",
    "df8=pd.DataFrame()\n",
    "df8['Book_name1']=Book_name1\n",
    "df8['Author_name']=Author_name\n",
    "df8['Volumes_sold']=Volumes_sold\n",
    "df8['Publisher']=Publisher\n",
    "df8['Genre']=Genre\n",
    "df8.head()"
   ]
  },
  {
   "cell_type": "code",
   "execution_count": null,
   "id": "e4c0d190",
   "metadata": {},
   "outputs": [],
   "source": []
  },
  {
   "cell_type": "markdown",
   "id": "ae3643e9",
   "metadata": {},
   "source": [
    "Question 9:\n",
    "\n",
    "Scrape the details most watched tv series of all time from imdb.com.\n",
    "\n",
    "Url = https://www.imdb.com/list/ls095964455/\n",
    "    \n",
    "You have to find the following details:\n",
    "    \n",
    "A) Name\n",
    "\n",
    "B) Year span\n",
    "\n",
    "C) Genre\n",
    "\n",
    "D) Run time\n",
    "\n",
    "E) Ratings\n",
    "\n",
    "F) Votes"
   ]
  },
  {
   "cell_type": "code",
   "execution_count": 61,
   "id": "db92ba92",
   "metadata": {},
   "outputs": [
    {
     "name": "stderr",
     "output_type": "stream",
     "text": [
      "\n",
      "\n",
      "====== WebDriver manager ======\n",
      "Current google-chrome version is 101.0.4951\n",
      "Get LATEST chromedriver version for 101.0.4951 google-chrome\n",
      "Driver [C:\\Users\\Swetha\\.wdm\\drivers\\chromedriver\\win32\\101.0.4951.41\\chromedriver.exe] found in cache\n"
     ]
    }
   ],
   "source": [
    "import pandas as pd\n",
    "import selenium\n",
    "import warnings\n",
    "from selenium import webdriver\n",
    "from selenium.common.exceptions import NoSuchElementException\n",
    "\n",
    "\n",
    "from selenium.webdriver.chrome.service import Service\n",
    "from webdriver_manager.chrome import ChromeDriverManager\n",
    "\n",
    "driver = webdriver.Chrome(service=Service(ChromeDriverManager().install()))\n",
    "\n"
   ]
  },
  {
   "cell_type": "code",
   "execution_count": 62,
   "id": "6bb98918",
   "metadata": {},
   "outputs": [],
   "source": [
    "driver.get('https://www.imdb.com/list/ls095964455/')"
   ]
  },
  {
   "cell_type": "code",
   "execution_count": 63,
   "id": "6c1c999b",
   "metadata": {},
   "outputs": [
    {
     "name": "stderr",
     "output_type": "stream",
     "text": [
      "C:\\Users\\Swetha\\AppData\\Local\\Temp/ipykernel_9868/638119314.py:8: DeprecationWarning: find_elements_by_xpath is deprecated. Please use find_elements(by=By.XPATH, value=xpath) instead\n",
      "  for i in driver.find_elements_by_xpath('//*[@id=\"main\"]/div/div[3]/div[3]/div/div/h3/a'):\n",
      "C:\\Users\\Swetha\\AppData\\Local\\Temp/ipykernel_9868/638119314.py:13: DeprecationWarning: find_elements_by_xpath is deprecated. Please use find_elements(by=By.XPATH, value=xpath) instead\n",
      "  for i in driver.find_elements_by_xpath('//span[@class=\"lister-item-year text-muted unbold\"]'):\n",
      "C:\\Users\\Swetha\\AppData\\Local\\Temp/ipykernel_9868/638119314.py:18: DeprecationWarning: find_elements_by_xpath is deprecated. Please use find_elements(by=By.XPATH, value=xpath) instead\n",
      "  for i in driver.find_elements_by_xpath('//span[@class=\"genre\"]'):\n",
      "C:\\Users\\Swetha\\AppData\\Local\\Temp/ipykernel_9868/638119314.py:23: DeprecationWarning: find_elements_by_xpath is deprecated. Please use find_elements(by=By.XPATH, value=xpath) instead\n",
      "  for i in driver.find_elements_by_xpath('//span[@class=\"runtime\"]'):\n",
      "C:\\Users\\Swetha\\AppData\\Local\\Temp/ipykernel_9868/638119314.py:28: DeprecationWarning: find_elements_by_xpath is deprecated. Please use find_elements(by=By.XPATH, value=xpath) instead\n",
      "  for i in driver.find_elements_by_xpath('//span[@class=\"ipl-rating-star__rating\"]'):\n",
      "C:\\Users\\Swetha\\AppData\\Local\\Temp/ipykernel_9868/638119314.py:36: DeprecationWarning: find_elements_by_xpath is deprecated. Please use find_elements(by=By.XPATH, value=xpath) instead\n",
      "  for i in driver.find_elements_by_xpath('//*[@id=\"main\"]/div/div[3]/div[3]/div/div/p[4]/span[2]'):\n"
     ]
    },
    {
     "data": {
      "text/html": [
       "<div>\n",
       "<style scoped>\n",
       "    .dataframe tbody tr th:only-of-type {\n",
       "        vertical-align: middle;\n",
       "    }\n",
       "\n",
       "    .dataframe tbody tr th {\n",
       "        vertical-align: top;\n",
       "    }\n",
       "\n",
       "    .dataframe thead th {\n",
       "        text-align: right;\n",
       "    }\n",
       "</style>\n",
       "<table border=\"1\" class=\"dataframe\">\n",
       "  <thead>\n",
       "    <tr style=\"text-align: right;\">\n",
       "      <th></th>\n",
       "      <th>Name</th>\n",
       "      <th>Year_span</th>\n",
       "      <th>Genre</th>\n",
       "      <th>Run_time</th>\n",
       "      <th>Ratings</th>\n",
       "      <th>Vote</th>\n",
       "    </tr>\n",
       "  </thead>\n",
       "  <tbody>\n",
       "    <tr>\n",
       "      <th>0</th>\n",
       "      <td>Game of Thrones</td>\n",
       "      <td>(2011–2019)</td>\n",
       "      <td>Action, Adventure, Drama</td>\n",
       "      <td>57 min</td>\n",
       "      <td>9.2</td>\n",
       "      <td>1,981,826</td>\n",
       "    </tr>\n",
       "    <tr>\n",
       "      <th>1</th>\n",
       "      <td>Stranger Things</td>\n",
       "      <td>(2016– )</td>\n",
       "      <td>Drama, Fantasy, Horror</td>\n",
       "      <td>51 min</td>\n",
       "      <td>8.7</td>\n",
       "      <td>987,507</td>\n",
       "    </tr>\n",
       "    <tr>\n",
       "      <th>2</th>\n",
       "      <td>The Walking Dead</td>\n",
       "      <td>(2010–2022)</td>\n",
       "      <td>Drama, Horror, Thriller</td>\n",
       "      <td>44 min</td>\n",
       "      <td>8.2</td>\n",
       "      <td>944,392</td>\n",
       "    </tr>\n",
       "    <tr>\n",
       "      <th>3</th>\n",
       "      <td>13 Reasons Why</td>\n",
       "      <td>(2017–2020)</td>\n",
       "      <td>Drama, Mystery, Thriller</td>\n",
       "      <td>60 min</td>\n",
       "      <td>7.5</td>\n",
       "      <td>282,148</td>\n",
       "    </tr>\n",
       "    <tr>\n",
       "      <th>4</th>\n",
       "      <td>The 100</td>\n",
       "      <td>(2014–2020)</td>\n",
       "      <td>Drama, Mystery, Sci-Fi</td>\n",
       "      <td>43 min</td>\n",
       "      <td>7.6</td>\n",
       "      <td>242,043</td>\n",
       "    </tr>\n",
       "  </tbody>\n",
       "</table>\n",
       "</div>"
      ],
      "text/plain": [
       "               Name    Year_span                     Genre Run_time Ratings  \\\n",
       "0   Game of Thrones  (2011–2019)  Action, Adventure, Drama   57 min     9.2   \n",
       "1   Stranger Things     (2016– )    Drama, Fantasy, Horror   51 min     8.7   \n",
       "2  The Walking Dead  (2010–2022)   Drama, Horror, Thriller   44 min     8.2   \n",
       "3    13 Reasons Why  (2017–2020)  Drama, Mystery, Thriller   60 min     7.5   \n",
       "4           The 100  (2014–2020)    Drama, Mystery, Sci-Fi   43 min     7.6   \n",
       "\n",
       "        Vote  \n",
       "0  1,981,826  \n",
       "1    987,507  \n",
       "2    944,392  \n",
       "3    282,148  \n",
       "4    242,043  "
      ]
     },
     "execution_count": 63,
     "metadata": {},
     "output_type": "execute_result"
    }
   ],
   "source": [
    "Name=[]\n",
    "Year_span=[]\n",
    "Genre=[]\n",
    "Run_time=[]\n",
    "Ratings=[]\n",
    "Vote=[]\n",
    "try:\n",
    "    for i in driver.find_elements_by_xpath('//*[@id=\"main\"]/div/div[3]/div[3]/div/div/h3/a'):\n",
    "        Name.append(i.text)\n",
    "except NoSuchElementException:\n",
    "    Name.append('Unknown')\n",
    "try:\n",
    "    for i in driver.find_elements_by_xpath('//span[@class=\"lister-item-year text-muted unbold\"]'):\n",
    "        Year_span.append(i.text)\n",
    "except NoSuchElementException:\n",
    "    Year_span.append('Unknown')\n",
    "try:\n",
    "    for i in driver.find_elements_by_xpath('//span[@class=\"genre\"]'):\n",
    "        Genre.append(i.text)\n",
    "except NoSuchElementException:\n",
    "    Genre.append('Unknown')\n",
    "try:\n",
    "    for i in driver.find_elements_by_xpath('//span[@class=\"runtime\"]'):\n",
    "        Run_time.append(i.text)\n",
    "except NoSuchElementException:\n",
    "    Run_time.append('Unknown')\n",
    "try:\n",
    "    for i in driver.find_elements_by_xpath('//span[@class=\"ipl-rating-star__rating\"]'):\n",
    "        Ratings.append(i.text)\n",
    "except NoSuchElementException:\n",
    "    Ratings.append('Unknown')\n",
    "Ratings1=[]\n",
    "for i in range(0,2300,23):\n",
    "    Ratings1.append(Ratings[i])\n",
    "try:\n",
    "    for i in driver.find_elements_by_xpath('//*[@id=\"main\"]/div/div[3]/div[3]/div/div/p[4]/span[2]'):\n",
    "        Vote.append(i.text)\n",
    "except NoSuchElementException:\n",
    "    Vote.append('Unknown')\n",
    "df9=pd.DataFrame()\n",
    "df9['Name']=Name\n",
    "df9['Year_span']=Year_span\n",
    "df9['Genre']=Genre\n",
    "df9['Run_time']=Run_time\n",
    "df9['Ratings']=Ratings1\n",
    "df9['Vote']=Vote\n",
    "df9.head()"
   ]
  },
  {
   "cell_type": "code",
   "execution_count": 64,
   "id": "0968c0d4",
   "metadata": {},
   "outputs": [],
   "source": [
    "driver.close()"
   ]
  },
  {
   "cell_type": "code",
   "execution_count": null,
   "id": "ec2ffea2",
   "metadata": {},
   "outputs": [],
   "source": []
  },
  {
   "cell_type": "markdown",
   "id": "9061fbe3",
   "metadata": {},
   "source": [
    "Question 10:\n",
    "\n",
    "Details of Datasets from UCI machine learning repositories.\n",
    "\n",
    "Url = https://archive.ics.uci.edu/\n",
    "    \n",
    "You have to find the following details:\n",
    "    \n",
    "A) Dataset name\n",
    "\n",
    "B) Data type\n",
    "\n",
    "C) Task\n",
    "\n",
    "D) Attribute type\n",
    "\n",
    "E) No of instances\n",
    "\n",
    "F) No of attribute\n",
    "\n",
    "G) Year\n",
    "\n",
    "Note: - from the home page you have to go to the Show All Dataset page through code."
   ]
  },
  {
   "cell_type": "code",
   "execution_count": 65,
   "id": "a9f8e50b",
   "metadata": {},
   "outputs": [
    {
     "name": "stderr",
     "output_type": "stream",
     "text": [
      "\n",
      "\n",
      "====== WebDriver manager ======\n",
      "Current google-chrome version is 101.0.4951\n",
      "Get LATEST chromedriver version for 101.0.4951 google-chrome\n",
      "Driver [C:\\Users\\Swetha\\.wdm\\drivers\\chromedriver\\win32\\101.0.4951.41\\chromedriver.exe] found in cache\n"
     ]
    }
   ],
   "source": [
    "from selenium import webdriver\n",
    "from selenium.webdriver.chrome.service import Service\n",
    "from webdriver_manager.chrome import ChromeDriverManager\n",
    "\n",
    "driver = webdriver.Chrome(service=Service(ChromeDriverManager().install()))"
   ]
  },
  {
   "cell_type": "code",
   "execution_count": 66,
   "id": "7772f8b2",
   "metadata": {},
   "outputs": [],
   "source": [
    "driver.get('https://archive.ics.uci.edu/')"
   ]
  },
  {
   "cell_type": "code",
   "execution_count": 67,
   "id": "12daf035",
   "metadata": {},
   "outputs": [
    {
     "name": "stderr",
     "output_type": "stream",
     "text": [
      "C:\\Users\\Swetha\\AppData\\Local\\Temp/ipykernel_9868/374761185.py:1: DeprecationWarning: find_element_by_xpath is deprecated. Please use find_element(by=By.XPATH, value=xpath) instead\n",
      "  dataset_tag=driver.find_element_by_xpath('/html/body/table[1]/tbody/tr/td[2]/span[2]/a/font/b')\n"
     ]
    }
   ],
   "source": [
    "dataset_tag=driver.find_element_by_xpath('/html/body/table[1]/tbody/tr/td[2]/span[2]/a/font/b')\n",
    "dataset_tag.click()"
   ]
  },
  {
   "cell_type": "code",
   "execution_count": 68,
   "id": "d5f569cb",
   "metadata": {},
   "outputs": [
    {
     "name": "stderr",
     "output_type": "stream",
     "text": [
      "C:\\Users\\Swetha\\AppData\\Local\\Temp/ipykernel_9868/1850926790.py:9: DeprecationWarning: find_elements_by_xpath is deprecated. Please use find_elements(by=By.XPATH, value=xpath) instead\n",
      "  for i in driver.find_elements_by_xpath('/html/body/table[2]/tbody/tr/td[2]/table[2]/tbody/tr/td/table/tbody/tr/td/p/b/a'):\n",
      "C:\\Users\\Swetha\\AppData\\Local\\Temp/ipykernel_9868/1850926790.py:15: DeprecationWarning: find_elements_by_xpath is deprecated. Please use find_elements(by=By.XPATH, value=xpath) instead\n",
      "  for i in driver.find_elements_by_xpath('/html/body/table[2]/tbody/tr/td[2]/table[2]/tbody/tr/td[2]/p'):\n",
      "C:\\Users\\Swetha\\AppData\\Local\\Temp/ipykernel_9868/1850926790.py:22: DeprecationWarning: find_elements_by_xpath is deprecated. Please use find_elements(by=By.XPATH, value=xpath) instead\n",
      "  for i in driver.find_elements_by_xpath('/html/body/table[2]/tbody/tr/td[2]/table[2]/tbody/tr/td[3]/p'):\n",
      "C:\\Users\\Swetha\\AppData\\Local\\Temp/ipykernel_9868/1850926790.py:29: DeprecationWarning: find_elements_by_xpath is deprecated. Please use find_elements(by=By.XPATH, value=xpath) instead\n",
      "  for i in driver.find_elements_by_xpath('/html/body/table[2]/tbody/tr/td[2]/table[2]/tbody/tr/td[4]/p'):\n",
      "C:\\Users\\Swetha\\AppData\\Local\\Temp/ipykernel_9868/1850926790.py:36: DeprecationWarning: find_elements_by_xpath is deprecated. Please use find_elements(by=By.XPATH, value=xpath) instead\n",
      "  for i in driver.find_elements_by_xpath('/html/body/table[2]/tbody/tr/td[2]/table[2]/tbody/tr/td[5]/p'):\n",
      "C:\\Users\\Swetha\\AppData\\Local\\Temp/ipykernel_9868/1850926790.py:43: DeprecationWarning: find_elements_by_xpath is deprecated. Please use find_elements(by=By.XPATH, value=xpath) instead\n",
      "  for i in driver.find_elements_by_xpath('/html/body/table[2]/tbody/tr/td[2]/table[2]/tbody/tr/td[6]/p'):\n",
      "C:\\Users\\Swetha\\AppData\\Local\\Temp/ipykernel_9868/1850926790.py:50: DeprecationWarning: find_elements_by_xpath is deprecated. Please use find_elements(by=By.XPATH, value=xpath) instead\n",
      "  for i in driver.find_elements_by_xpath('/html/body/table[2]/tbody/tr/td[2]/table[2]/tbody/tr/td[7]/p'):\n"
     ]
    },
    {
     "data": {
      "text/html": [
       "<div>\n",
       "<style scoped>\n",
       "    .dataframe tbody tr th:only-of-type {\n",
       "        vertical-align: middle;\n",
       "    }\n",
       "\n",
       "    .dataframe tbody tr th {\n",
       "        vertical-align: top;\n",
       "    }\n",
       "\n",
       "    .dataframe thead th {\n",
       "        text-align: right;\n",
       "    }\n",
       "</style>\n",
       "<table border=\"1\" class=\"dataframe\">\n",
       "  <thead>\n",
       "    <tr style=\"text-align: right;\">\n",
       "      <th></th>\n",
       "      <th>Dataset_name</th>\n",
       "      <th>Data_type</th>\n",
       "      <th>Task</th>\n",
       "      <th>Attribute_type</th>\n",
       "      <th>No_of_instances</th>\n",
       "      <th>No_of_attributes</th>\n",
       "      <th>Year</th>\n",
       "    </tr>\n",
       "  </thead>\n",
       "  <tbody>\n",
       "    <tr>\n",
       "      <th>0</th>\n",
       "      <td>Abalone</td>\n",
       "      <td>Multivariate</td>\n",
       "      <td>Classification</td>\n",
       "      <td>Categorical, Integer, Real</td>\n",
       "      <td>4177</td>\n",
       "      <td>8</td>\n",
       "      <td>1995</td>\n",
       "    </tr>\n",
       "    <tr>\n",
       "      <th>1</th>\n",
       "      <td>Adult</td>\n",
       "      <td>Multivariate</td>\n",
       "      <td>Classification</td>\n",
       "      <td>Categorical, Integer</td>\n",
       "      <td>48842</td>\n",
       "      <td>14</td>\n",
       "      <td>1996</td>\n",
       "    </tr>\n",
       "    <tr>\n",
       "      <th>2</th>\n",
       "      <td>Annealing</td>\n",
       "      <td>Multivariate</td>\n",
       "      <td>Classification</td>\n",
       "      <td>Categorical, Integer, Real</td>\n",
       "      <td>798</td>\n",
       "      <td>38</td>\n",
       "      <td></td>\n",
       "    </tr>\n",
       "    <tr>\n",
       "      <th>3</th>\n",
       "      <td>Anonymous Microsoft Web Data</td>\n",
       "      <td></td>\n",
       "      <td>Recommender-Systems</td>\n",
       "      <td>Categorical</td>\n",
       "      <td>37711</td>\n",
       "      <td>294</td>\n",
       "      <td>1998</td>\n",
       "    </tr>\n",
       "    <tr>\n",
       "      <th>4</th>\n",
       "      <td>Arrhythmia</td>\n",
       "      <td>Multivariate</td>\n",
       "      <td>Classification</td>\n",
       "      <td>Categorical, Integer, Real</td>\n",
       "      <td>452</td>\n",
       "      <td>279</td>\n",
       "      <td>1998</td>\n",
       "    </tr>\n",
       "  </tbody>\n",
       "</table>\n",
       "</div>"
      ],
      "text/plain": [
       "                   Dataset_name      Data_type                  Task  \\\n",
       "0                       Abalone  Multivariate        Classification    \n",
       "1                         Adult  Multivariate        Classification    \n",
       "2                     Annealing  Multivariate        Classification    \n",
       "3  Anonymous Microsoft Web Data                 Recommender-Systems    \n",
       "4                    Arrhythmia  Multivariate        Classification    \n",
       "\n",
       "                Attribute_type No_of_instances No_of_attributes   Year  \n",
       "0  Categorical, Integer, Real            4177                8   1995   \n",
       "1        Categorical, Integer           48842               14   1996   \n",
       "2  Categorical, Integer, Real             798               38          \n",
       "3                 Categorical           37711              294   1998   \n",
       "4  Categorical, Integer, Real             452              279   1998   "
      ]
     },
     "execution_count": 68,
     "metadata": {},
     "output_type": "execute_result"
    }
   ],
   "source": [
    "Dataset_name=[]\n",
    "Data_type=[]\n",
    "Task=[]\n",
    "Attribute_type=[]\n",
    "No_of_instances=[]\n",
    "No_of_attributes=[]\n",
    "Year=[]\n",
    "try:\n",
    "    for i in driver.find_elements_by_xpath('/html/body/table[2]/tbody/tr/td[2]/table[2]/tbody/tr/td/table/tbody/tr/td/p/b/a'):\n",
    "        Dataset_name.append(i.text)\n",
    "except NoSuchElementException:\n",
    "    Dataset_name.append('Unknown')\n",
    "Data_type1=[]\n",
    "try:\n",
    "    for i in driver.find_elements_by_xpath('/html/body/table[2]/tbody/tr/td[2]/table[2]/tbody/tr/td[2]/p'):\n",
    "        Data_type.append(i.text)\n",
    "except NoSuchElementException:\n",
    "    Data_type.append('Unknown')\n",
    "Data_type1=Data_type[1:]\n",
    "Task1=[]\n",
    "try:\n",
    "    for i in driver.find_elements_by_xpath('/html/body/table[2]/tbody/tr/td[2]/table[2]/tbody/tr/td[3]/p'):\n",
    "        Task.append(i.text)\n",
    "except NoSuchElementException:\n",
    "    Task.append('Unknown')\n",
    "Task1=Task[1:]\n",
    "Attribute_type1=[]\n",
    "try:\n",
    "    for i in driver.find_elements_by_xpath('/html/body/table[2]/tbody/tr/td[2]/table[2]/tbody/tr/td[4]/p'):\n",
    "        Attribute_type.append(i.text)\n",
    "except NoSuchElementException:\n",
    "    Attribute_type.append('Unknown')\n",
    "Attribute_type1=Attribute_type[1:]\n",
    "No_of_instances1=[]\n",
    "try:\n",
    "    for i in driver.find_elements_by_xpath('/html/body/table[2]/tbody/tr/td[2]/table[2]/tbody/tr/td[5]/p'):\n",
    "        No_of_instances.append(i.text)\n",
    "except NoSuchElementException:\n",
    "    No_of_instances.append('Unknown')\n",
    "No_of_instances1=No_of_instances[1:]\n",
    "No_of_attributes1=[]\n",
    "try:\n",
    "    for i in driver.find_elements_by_xpath('/html/body/table[2]/tbody/tr/td[2]/table[2]/tbody/tr/td[6]/p'):\n",
    "        No_of_attributes.append(i.text)\n",
    "except NoSuchElementException:\n",
    "    No_of_attributes.append('Unknown')\n",
    "No_of_attributes1=No_of_attributes[1:]\n",
    "Year1=[]\n",
    "try:\n",
    "    for i in driver.find_elements_by_xpath('/html/body/table[2]/tbody/tr/td[2]/table[2]/tbody/tr/td[7]/p'):\n",
    "        Year.append(i.text)\n",
    "except NoSuchElementException:\n",
    "    Year.append('Unknown')\n",
    "Year1=Year[1:]\n",
    "df10=pd.DataFrame()\n",
    "df10['Dataset_name']=Dataset_name\n",
    "df10['Data_type']=Data_type1\n",
    "df10['Task']=Task1\n",
    "df10['Attribute_type']=Attribute_type1\n",
    "df10['No_of_instances']=No_of_instances1\n",
    "df10['No_of_attributes']=No_of_attributes1\n",
    "df10['Year']=Year1\n",
    "df10.head()"
   ]
  },
  {
   "cell_type": "code",
   "execution_count": null,
   "id": "35d5c38d",
   "metadata": {},
   "outputs": [],
   "source": []
  }
 ],
 "metadata": {
  "kernelspec": {
   "display_name": "Python 3 (ipykernel)",
   "language": "python",
   "name": "python3"
  },
  "language_info": {
   "codemirror_mode": {
    "name": "ipython",
    "version": 3
   },
   "file_extension": ".py",
   "mimetype": "text/x-python",
   "name": "python",
   "nbconvert_exporter": "python",
   "pygments_lexer": "ipython3",
   "version": "3.9.7"
  }
 },
 "nbformat": 4,
 "nbformat_minor": 5
}
